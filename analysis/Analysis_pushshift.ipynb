{
 "cells": [
  {
   "cell_type": "code",
   "execution_count": 1,
   "id": "c95ff1ec",
   "metadata": {},
   "outputs": [],
   "source": [
    "import requests\n",
    "from datetime import datetime\n",
    "import traceback\n",
    "import time\n",
    "import json\n",
    "import logging\n",
    "import pandas as pd"
   ]
  },
  {
   "cell_type": "markdown",
   "id": "9737db9e",
   "metadata": {},
   "source": [
    "## Set up Logging"
   ]
  },
  {
   "cell_type": "code",
   "execution_count": 2,
   "id": "6e4bc890",
   "metadata": {},
   "outputs": [],
   "source": [
    "logger = logging.getLogger(\"reddit scraper\")\n",
    "logger.setLevel(\"DEBUG\")\n",
    "ch = logging.StreamHandler()\n",
    "ch.setLevel(logging.DEBUG)\n",
    "formatter = logging.Formatter('%(asctime)s - %(name)s - %(levelname)s - %(message)s')\n",
    "ch.setFormatter(formatter)\n",
    "logger.addHandler(ch)"
   ]
  },
  {
   "cell_type": "markdown",
   "id": "aba27490",
   "metadata": {},
   "source": [
    "## Global Variables"
   ]
  },
  {
   "cell_type": "code",
   "execution_count": 3,
   "id": "ac450aeb",
   "metadata": {},
   "outputs": [],
   "source": [
    "subreddit = \"dataengineering\""
   ]
  },
  {
   "cell_type": "code",
   "execution_count": 4,
   "id": "7e32f431",
   "metadata": {},
   "outputs": [],
   "source": [
    "base_url = \"https://api.pushshift.io/reddit/submission/search?\\\n",
    "&subreddit={subreddit}\\\n",
    "&limit={limit}\\\n",
    "&sort={sort}\\\n",
    "&sort_type={sort_type}\\\n",
    "&before={end_timestamp}\\\n",
    "&{start_timestamp}\""
   ]
  },
  {
   "cell_type": "code",
   "execution_count": 5,
   "id": "44b7c61b",
   "metadata": {},
   "outputs": [],
   "source": [
    "excluded_columns = [\n",
    "    \"all_awardings\",\n",
    "    \"author_flair_richtext\",\n",
    "    \"awarders\",\n",
    "    \"gildings\",\n",
    "    \"link_flair_richtext\",\n",
    "    \"treatment_tags\",\n",
    "    \"wls\",\n",
    "    \"pwls\",\n",
    "    \"preview\",\n",
    "    \"poll_data\",\n",
    "    \"media_metadata\",\n",
    "    \"crosspost_parent_list\",\n",
    "    \"media\",\n",
    "    \"media_embed\",\n",
    "    \"secure_media\",\n",
    "    \"secure_media_embed\",\n",
    "    \"collections\",\n",
    "    \"gallery_data\",\n",
    "    \"steward_reports\",\n",
    "    \"approved_at_utc\",\n",
    "    \"banned_at_utc\",\n",
    "    \"suggested_sort\",\n",
    "    \"view_count\",\n",
    "]"
   ]
  },
  {
   "cell_type": "markdown",
   "id": "049a388d",
   "metadata": {},
   "source": [
    "## helper function to get posts"
   ]
  },
  {
   "cell_type": "code",
   "execution_count": 6,
   "id": "8ecd5f82",
   "metadata": {},
   "outputs": [],
   "source": [
    "def get_posts(json_objects):\n",
    "    posts = []\n",
    "    for post in json_objects:\n",
    "        filtered_posts = {k:v for (k,v) in post.items() if k not in excluded_columns}\n",
    "        posts.append(filtered_posts)\n",
    "    return posts"
   ]
  },
  {
   "cell_type": "markdown",
   "id": "2081ecbf",
   "metadata": {},
   "source": [
    "## Get all subreddit posts"
   ]
  },
  {
   "cell_type": "code",
   "execution_count": 7,
   "id": "b30d1c23",
   "metadata": {},
   "outputs": [],
   "source": [
    "def get_all_subreddit_posts(pushshift_args, full_refresh = True):\n",
    "    all_posts = []\n",
    "    start_time = datetime.utcnow()\n",
    "    previous_epoch = int(start_time.timestamp())\n",
    "    if not full_refresh:\n",
    "        pushshift_args[\"start_timestamp\"] = None\n",
    "    while True: # loop through requests until empty\n",
    "        pushshift_args[\"end_timestamp\"] = previous_epoch\n",
    "        request_url = base_url.format(**pushshift_args)\n",
    "        json_text = requests.get(request_url) # get reddit data via request from pushshift\n",
    "        time.sleep(1)\n",
    "        try: # parse request to json\n",
    "            json_request = json_text.json()\n",
    "        except json.decoder.JSONDecodeError as e:\n",
    "            logger.warning(\"Unable to Decode json request:\", e)\n",
    "            time.sleep(1)\n",
    "            continue\n",
    "            \n",
    "        json_objects = json_request.get('data', [])\n",
    "        if not json_objects: # check if result set is empty\n",
    "            logger.warning(\"Empty json request\")\n",
    "            break\n",
    "            \n",
    "        previous_epoch = json_objects[-1]['created_utc'] - 1\n",
    "        total_posts = len(json_objects)\n",
    "            \n",
    "        posts = get_posts(json_objects) # get posts from request\n",
    "        all_posts.extend(posts)\n",
    "        logger.info(f\"Processed {len(all_posts)} posts\")\n",
    "\n",
    "    logger.info(f\"Saved {len(all_posts)} posts\")\n",
    "    return all_posts"
   ]
  },
  {
   "cell_type": "code",
   "execution_count": 8,
   "id": "4f02391f",
   "metadata": {},
   "outputs": [],
   "source": [
    "pushshift_args = {\n",
    "    'subreddit': 'dataengineering',\n",
    "    'limit': 1000,\n",
    "    'sort': 'desc',\n",
    "    'sort_type': 'created_utc',\n",
    "    'end_timestamp': None,\n",
    "    'start_timestamp': None\n",
    "}"
   ]
  },
  {
   "cell_type": "code",
   "execution_count": 9,
   "id": "0a40599d",
   "metadata": {
    "scrolled": true
   },
   "outputs": [
    {
     "name": "stderr",
     "output_type": "stream",
     "text": [
      "2021-12-28 21:00:31,908 - reddit scraper - INFO - Processed 100 posts\n",
      "2021-12-28 21:00:33,754 - reddit scraper - INFO - Processed 200 posts\n",
      "2021-12-28 21:00:35,828 - reddit scraper - INFO - Processed 300 posts\n",
      "2021-12-28 21:00:37,279 - reddit scraper - INFO - Processed 400 posts\n",
      "2021-12-28 21:00:39,488 - reddit scraper - INFO - Processed 500 posts\n",
      "2021-12-28 21:00:41,150 - reddit scraper - INFO - Processed 600 posts\n",
      "2021-12-28 21:00:43,055 - reddit scraper - INFO - Processed 700 posts\n",
      "2021-12-28 21:00:44,490 - reddit scraper - INFO - Processed 800 posts\n",
      "2021-12-28 21:00:46,513 - reddit scraper - INFO - Processed 900 posts\n",
      "2021-12-28 21:00:48,491 - reddit scraper - INFO - Processed 1000 posts\n",
      "2021-12-28 21:00:49,801 - reddit scraper - INFO - Processed 1100 posts\n",
      "2021-12-28 21:00:54,382 - reddit scraper - INFO - Processed 1200 posts\n",
      "2021-12-28 21:00:56,233 - reddit scraper - INFO - Processed 1300 posts\n",
      "2021-12-28 21:00:58,086 - reddit scraper - INFO - Processed 1400 posts\n",
      "2021-12-28 21:00:59,558 - reddit scraper - INFO - Processed 1500 posts\n",
      "2021-12-28 21:01:01,459 - reddit scraper - INFO - Processed 1600 posts\n",
      "2021-12-28 21:01:03,350 - reddit scraper - INFO - Processed 1700 posts\n",
      "2021-12-28 21:01:06,205 - reddit scraper - INFO - Processed 1800 posts\n",
      "2021-12-28 21:01:08,167 - reddit scraper - INFO - Processed 1900 posts\n",
      "2021-12-28 21:01:09,812 - reddit scraper - INFO - Processed 2000 posts\n",
      "2021-12-28 21:01:11,465 - reddit scraper - INFO - Processed 2100 posts\n",
      "2021-12-28 21:01:13,090 - reddit scraper - INFO - Processed 2200 posts\n",
      "2021-12-28 21:01:14,838 - reddit scraper - INFO - Processed 2300 posts\n",
      "2021-12-28 21:01:16,440 - reddit scraper - INFO - Processed 2400 posts\n",
      "2021-12-28 21:01:18,969 - reddit scraper - INFO - Processed 2500 posts\n",
      "2021-12-28 21:01:20,597 - reddit scraper - INFO - Processed 2600 posts\n",
      "2021-12-28 21:01:22,879 - reddit scraper - INFO - Processed 2700 posts\n",
      "2021-12-28 21:01:24,349 - reddit scraper - INFO - Processed 2800 posts\n",
      "2021-12-28 21:01:26,029 - reddit scraper - INFO - Processed 2900 posts\n",
      "2021-12-28 21:01:27,403 - reddit scraper - INFO - Processed 3000 posts\n",
      "2021-12-28 21:01:29,121 - reddit scraper - INFO - Processed 3100 posts\n",
      "2021-12-28 21:01:30,455 - reddit scraper - INFO - Processed 3200 posts\n",
      "2021-12-28 21:01:32,424 - reddit scraper - INFO - Processed 3300 posts\n",
      "2021-12-28 21:01:33,894 - reddit scraper - INFO - Processed 3400 posts\n",
      "2021-12-28 21:01:35,826 - reddit scraper - INFO - Processed 3500 posts\n",
      "2021-12-28 21:01:37,493 - reddit scraper - INFO - Processed 3600 posts\n",
      "2021-12-28 21:01:45,275 - reddit scraper - INFO - Processed 3699 posts\n",
      "2021-12-28 21:01:49,079 - reddit scraper - INFO - Processed 3799 posts\n",
      "2021-12-28 21:01:50,709 - reddit scraper - INFO - Processed 3899 posts\n",
      "2021-12-28 21:01:55,001 - reddit scraper - INFO - Processed 3999 posts\n",
      "2021-12-28 21:01:57,563 - reddit scraper - INFO - Processed 4099 posts\n",
      "2021-12-28 21:01:59,198 - reddit scraper - INFO - Processed 4199 posts\n",
      "2021-12-28 21:02:00,946 - reddit scraper - INFO - Processed 4299 posts\n",
      "2021-12-28 21:02:02,900 - reddit scraper - INFO - Processed 4399 posts\n",
      "2021-12-28 21:02:04,540 - reddit scraper - INFO - Processed 4499 posts\n",
      "2021-12-28 21:02:05,953 - reddit scraper - INFO - Processed 4599 posts\n",
      "2021-12-28 21:02:07,606 - reddit scraper - INFO - Processed 4699 posts\n",
      "2021-12-28 21:02:09,662 - reddit scraper - INFO - Processed 4799 posts\n",
      "2021-12-28 21:02:11,270 - reddit scraper - INFO - Processed 4899 posts\n",
      "2021-12-28 21:02:12,763 - reddit scraper - INFO - Processed 4998 posts\n",
      "2021-12-28 21:02:14,722 - reddit scraper - INFO - Processed 5098 posts\n",
      "2021-12-28 21:02:16,435 - reddit scraper - INFO - Processed 5198 posts\n",
      "2021-12-28 21:02:17,941 - reddit scraper - INFO - Processed 5298 posts\n",
      "2021-12-28 21:02:19,738 - reddit scraper - INFO - Processed 5398 posts\n",
      "2021-12-28 21:02:21,317 - reddit scraper - INFO - Processed 5497 posts\n",
      "2021-12-28 21:02:23,348 - reddit scraper - INFO - Processed 5597 posts\n",
      "2021-12-28 21:02:25,423 - reddit scraper - INFO - Processed 5697 posts\n",
      "2021-12-28 21:02:26,929 - reddit scraper - INFO - Processed 5797 posts\n",
      "2021-12-28 21:02:28,583 - reddit scraper - INFO - Processed 5897 posts\n",
      "2021-12-28 21:02:30,162 - reddit scraper - INFO - Processed 5997 posts\n",
      "2021-12-28 21:02:31,692 - reddit scraper - INFO - Processed 6097 posts\n",
      "2021-12-28 21:02:33,203 - reddit scraper - INFO - Processed 6197 posts\n",
      "2021-12-28 21:02:34,924 - reddit scraper - INFO - Processed 6297 posts\n",
      "2021-12-28 21:02:39,445 - reddit scraper - INFO - Processed 6397 posts\n",
      "2021-12-28 21:02:40,900 - reddit scraper - INFO - Processed 6497 posts\n",
      "2021-12-28 21:02:43,508 - reddit scraper - INFO - Processed 6597 posts\n",
      "2021-12-28 21:02:45,125 - reddit scraper - INFO - Processed 6697 posts\n",
      "2021-12-28 21:02:46,685 - reddit scraper - INFO - Processed 6797 posts\n",
      "2021-12-28 21:02:48,052 - reddit scraper - INFO - Processed 6897 posts\n",
      "2021-12-28 21:02:49,921 - reddit scraper - INFO - Processed 6997 posts\n",
      "2021-12-28 21:02:53,789 - reddit scraper - INFO - Processed 7097 posts\n",
      "2021-12-28 21:02:56,215 - reddit scraper - INFO - Processed 7197 posts\n",
      "2021-12-28 21:02:58,045 - reddit scraper - INFO - Processed 7297 posts\n",
      "2021-12-28 21:02:59,592 - reddit scraper - INFO - Processed 7397 posts\n",
      "2021-12-28 21:03:01,056 - reddit scraper - INFO - Processed 7497 posts\n",
      "2021-12-28 21:03:03,015 - reddit scraper - INFO - Processed 7597 posts\n",
      "2021-12-28 21:03:04,965 - reddit scraper - INFO - Processed 7697 posts\n",
      "2021-12-28 21:03:08,632 - reddit scraper - INFO - Processed 7797 posts\n",
      "2021-12-28 21:03:10,556 - reddit scraper - INFO - Processed 7897 posts\n",
      "2021-12-28 21:03:12,446 - reddit scraper - INFO - Processed 7997 posts\n",
      "2021-12-28 21:03:13,816 - reddit scraper - INFO - Processed 8097 posts\n",
      "2021-12-28 21:03:15,710 - reddit scraper - INFO - Processed 8197 posts\n",
      "2021-12-28 21:03:17,033 - reddit scraper - INFO - Processed 8297 posts\n",
      "2021-12-28 21:03:18,765 - reddit scraper - INFO - Processed 8397 posts\n",
      "2021-12-28 21:03:20,202 - reddit scraper - INFO - Processed 8497 posts\n",
      "2021-12-28 21:03:22,152 - reddit scraper - INFO - Processed 8597 posts\n",
      "2021-12-28 21:03:23,821 - reddit scraper - INFO - Processed 8697 posts\n",
      "2021-12-28 21:03:25,096 - reddit scraper - INFO - Processed 8797 posts\n",
      "2021-12-28 21:03:26,658 - reddit scraper - INFO - Processed 8896 posts\n",
      "2021-12-28 21:03:28,090 - reddit scraper - INFO - Processed 8996 posts\n",
      "2021-12-28 21:03:29,393 - reddit scraper - INFO - Processed 9096 posts\n",
      "2021-12-28 21:03:32,690 - reddit scraper - INFO - Processed 9134 posts\n",
      "2021-12-28 21:03:33,919 - reddit scraper - WARNING - Empty json request\n",
      "2021-12-28 21:03:33,921 - reddit scraper - INFO - Saved 9134 posts\n"
     ]
    }
   ],
   "source": [
    "all_posts = get_all_subreddit_posts(pushshift_args)"
   ]
  },
  {
   "cell_type": "markdown",
   "id": "305a5335",
   "metadata": {},
   "source": [
    "### Create dataframe from results"
   ]
  },
  {
   "cell_type": "code",
   "execution_count": 10,
   "id": "41c03ca8",
   "metadata": {},
   "outputs": [],
   "source": [
    "df = pd.DataFrame(all_posts)"
   ]
  },
  {
   "cell_type": "markdown",
   "id": "c858198e",
   "metadata": {},
   "source": [
    "### Drop Duplicates"
   ]
  },
  {
   "cell_type": "code",
   "execution_count": 11,
   "id": "98ed8c94",
   "metadata": {},
   "outputs": [],
   "source": [
    "df_deduped = df.drop_duplicates(['author', 'title', 'created_utc'])"
   ]
  },
  {
   "cell_type": "markdown",
   "id": "90d16fc1",
   "metadata": {},
   "source": [
    "### Save Dataframe to CSV"
   ]
  },
  {
   "cell_type": "code",
   "execution_count": 12,
   "id": "7be22ef6",
   "metadata": {},
   "outputs": [],
   "source": [
    "df_deduped.to_csv(\"reddit_de_posts_filtered.csv\", index = False)"
   ]
  },
  {
   "cell_type": "markdown",
   "id": "ada444db",
   "metadata": {},
   "source": [
    "## Save results to Postgres Database"
   ]
  },
  {
   "cell_type": "markdown",
   "id": "744f8e00",
   "metadata": {},
   "source": [
    "### Connect to Postgres Database"
   ]
  },
  {
   "cell_type": "code",
   "execution_count": 13,
   "id": "5a9bc0f4",
   "metadata": {},
   "outputs": [
    {
     "data": {
      "text/plain": [
       "True"
      ]
     },
     "execution_count": 13,
     "metadata": {},
     "output_type": "execute_result"
    }
   ],
   "source": [
    "import psycopg2\n",
    "import os\n",
    "from dotenv import load_dotenv\n",
    "\n",
    "load_dotenv(\"../postgres/.env\")"
   ]
  },
  {
   "cell_type": "code",
   "execution_count": 14,
   "id": "ea26ba0c",
   "metadata": {},
   "outputs": [],
   "source": [
    "PG_USER = os.getenv('POSTGRES_USER')\n",
    "PG_PW = os.getenv('POSTGRES_PASSWORD')\n",
    "PG_DB = os.getenv('POSTGRES_DB')"
   ]
  },
  {
   "cell_type": "code",
   "execution_count": 15,
   "id": "913e02f4",
   "metadata": {},
   "outputs": [],
   "source": [
    "postgres_conn_args = {\n",
    "    \"host\": \"localhost\",\n",
    "    \"database\": PG_DB,\n",
    "    \"user\": PG_USER,\n",
    "    \"password\": PG_PW,\n",
    "    \"port\": 5432\n",
    "}"
   ]
  },
  {
   "cell_type": "code",
   "execution_count": 16,
   "id": "c2e7aacd",
   "metadata": {},
   "outputs": [],
   "source": [
    "pg_conn = psycopg2.connect(**postgres_conn_args)"
   ]
  },
  {
   "cell_type": "markdown",
   "id": "483727c3",
   "metadata": {},
   "source": [
    "### Create table"
   ]
  },
  {
   "cell_type": "code",
   "execution_count": 17,
   "id": "6ccde130",
   "metadata": {},
   "outputs": [],
   "source": [
    "CREATE_TABLE_SQL = \"\"\"\n",
    "CREATE TABLE IF NOT EXISTS raw_data.reddit_de (\n",
    "    allow_live_comments bool,\n",
    "    author text NOT NULL,\n",
    "    author_flair_css_class text,\n",
    "    author_flair_text text,\n",
    "    author_flair_type text,\n",
    "    author_fullname text,\n",
    "    author_is_blocked bool,\n",
    "    author_patreon_flair bool,\n",
    "    author_premium bool,\n",
    "    can_mod_post bool,\n",
    "    contest_mode bool,\n",
    "    created_utc bigint NOT NULL,\n",
    "    domain text,\n",
    "    full_link text NOT NULL,\n",
    "    id char(6) UNIQUE NOT NULL,\n",
    "    is_created_from_ads_ui bool,\n",
    "    is_crosspostable bool,\n",
    "    is_meta bool,\n",
    "    is_original_content bool,\n",
    "    is_reddit_media_domain bool,\n",
    "    is_robot_indexable bool,\n",
    "    is_self bool,\n",
    "    is_video bool,\n",
    "    link_flair_background_color varchar(7),\n",
    "    link_flair_template_id text,\n",
    "    link_flair_text text,\n",
    "    link_flair_text_color text,\n",
    "    link_flair_type text,\n",
    "    locked bool,\n",
    "    media_only bool,\n",
    "    no_follow bool,\n",
    "    num_comments int,\n",
    "    num_crossposts decimal(3,1),\n",
    "    over_18 bool,\n",
    "    parent_whitelist_status text,\n",
    "    permalink text NOT NULL,\n",
    "    pinned bool,\n",
    "    retrieved_on bigint NOT NULL,\n",
    "    score int,\n",
    "    selftext text,\n",
    "    send_replies bool,\n",
    "    spoiler bool,\n",
    "    stickied bool,\n",
    "    subreddit text,\n",
    "    subreddit_id text,\n",
    "    subreddit_subscribers decimal(7,1),\n",
    "    subreddit_type text,\n",
    "    thumbnail text,\n",
    "    title text NOT NULL,\n",
    "    total_awards_received decimal(4,1),\n",
    "    upvote_ratio decimal(3,2),\n",
    "    url text NOT NULL,\n",
    "    whitelist_status text,\n",
    "    post_hint text,\n",
    "    thumbnail_height decimal(4,1),\n",
    "    thumbnail_width decimal(4,1),\n",
    "    url_overridden_by_dest text,\n",
    "    removed_by_category text,\n",
    "    author_flair_background_color text,\n",
    "    author_flair_template_id text,\n",
    "    author_flair_text_color text,\n",
    "    author_cakeday bool,\n",
    "    crosspost_parent char(9),\n",
    "    edited decimal(11,1),\n",
    "    banned_by text,\n",
    "    is_gallery bool,\n",
    "    distinguished text,\n",
    "    removed_by text,\n",
    "    updated_utc decimal(11,1),\n",
    "    og_description text,\n",
    "    og_title text,\n",
    "    gilded decimal(2,1),\n",
    "    rte_mode text,\n",
    "    author_id text,\n",
    "    brand_safe bool,\n",
    "    author_created_utc decimal(11,1)\n",
    ");\n",
    "\"\"\""
   ]
  },
  {
   "cell_type": "code",
   "execution_count": 19,
   "id": "5863bdf8",
   "metadata": {},
   "outputs": [],
   "source": [
    "with pg_conn:\n",
    "    with pg_conn.cursor() as pg_cur:\n",
    "            pg_cur.execute(CREATE_TABLE_SQL)"
   ]
  },
  {
   "cell_type": "markdown",
   "id": "4b1cf634",
   "metadata": {},
   "source": [
    "### Copy Contents to table"
   ]
  },
  {
   "cell_type": "code",
   "execution_count": 20,
   "id": "058ffda7",
   "metadata": {},
   "outputs": [],
   "source": [
    "COPY_SQL = \"\"\"\n",
    "COPY raw_data.reddit_de {columns}\n",
    "FROM STDIN\n",
    "WITH CSV HEADER\n",
    "DELIMITER as ','\n",
    "\"\"\""
   ]
  },
  {
   "cell_type": "code",
   "execution_count": 21,
   "id": "8bea9d80",
   "metadata": {},
   "outputs": [],
   "source": [
    "column_names = f\"({', '.join(list(df_deduped.columns))})\""
   ]
  },
  {
   "cell_type": "code",
   "execution_count": 22,
   "id": "6b9d9b47",
   "metadata": {},
   "outputs": [],
   "source": [
    "with pg_conn:\n",
    "    with pg_conn.cursor() as pg_cur:\n",
    "        with open(\"reddit_de_posts_filtered.csv\",  'rb') as tmp_file:\n",
    "            pg_cur.copy_expert(COPY_SQL.format(columns=column_names), tmp_file)"
   ]
  },
  {
   "cell_type": "markdown",
   "id": "f1be7221",
   "metadata": {},
   "source": [
    "### Clean Up"
   ]
  },
  {
   "cell_type": "code",
   "execution_count": 23,
   "id": "7e8a8d7d",
   "metadata": {},
   "outputs": [],
   "source": [
    "with pg_conn:\n",
    "    with pg_conn.cursor() as pg_cur:\n",
    "        pg_cur.execute(\"ANALYZE\")"
   ]
  },
  {
   "cell_type": "code",
   "execution_count": 24,
   "id": "5bda1e98",
   "metadata": {},
   "outputs": [],
   "source": [
    "pg_conn.close()"
   ]
  },
  {
   "cell_type": "code",
   "execution_count": 184,
   "id": "f0397124",
   "metadata": {},
   "outputs": [],
   "source": [
    "!rm -f 'reddit_de_posts_filtered.csv'"
   ]
  },
  {
   "cell_type": "code",
   "execution_count": 218,
   "id": "4dcf3019",
   "metadata": {},
   "outputs": [
    {
     "data": {
      "text/plain": [
       "False    8921\n",
       "True       87\n",
       "Name: is_reddit_media_domain, dtype: int64"
      ]
     },
     "execution_count": 218,
     "metadata": {},
     "output_type": "execute_result"
    }
   ],
   "source": [
    "df[\"is_reddit_media_domain\"].value_counts()"
   ]
  },
  {
   "cell_type": "code",
   "execution_count": 219,
   "id": "71b34a10",
   "metadata": {},
   "outputs": [
    {
     "data": {
      "text/plain": [
       "True     7667\n",
       "False    1169\n",
       "Name: is_robot_indexable, dtype: int64"
      ]
     },
     "execution_count": 219,
     "metadata": {},
     "output_type": "execute_result"
    }
   ],
   "source": [
    "df[\"is_robot_indexable\"].value_counts()"
   ]
  },
  {
   "cell_type": "code",
   "execution_count": 234,
   "id": "3c9020ee",
   "metadata": {},
   "outputs": [
    {
     "data": {
      "text/html": [
       "<div>\n",
       "<style scoped>\n",
       "    .dataframe tbody tr th:only-of-type {\n",
       "        vertical-align: middle;\n",
       "    }\n",
       "\n",
       "    .dataframe tbody tr th {\n",
       "        vertical-align: top;\n",
       "    }\n",
       "\n",
       "    .dataframe thead th {\n",
       "        text-align: right;\n",
       "    }\n",
       "</style>\n",
       "<table border=\"1\" class=\"dataframe\">\n",
       "  <thead>\n",
       "    <tr style=\"text-align: right;\">\n",
       "      <th></th>\n",
       "      <th>allow_live_comments</th>\n",
       "      <th>author</th>\n",
       "      <th>author_flair_css_class</th>\n",
       "      <th>author_flair_text</th>\n",
       "      <th>author_flair_type</th>\n",
       "      <th>author_fullname</th>\n",
       "      <th>author_is_blocked</th>\n",
       "      <th>author_patreon_flair</th>\n",
       "      <th>author_premium</th>\n",
       "      <th>can_mod_post</th>\n",
       "      <th>...</th>\n",
       "      <th>distinguished</th>\n",
       "      <th>removed_by</th>\n",
       "      <th>updated_utc</th>\n",
       "      <th>og_description</th>\n",
       "      <th>og_title</th>\n",
       "      <th>gilded</th>\n",
       "      <th>rte_mode</th>\n",
       "      <th>author_id</th>\n",
       "      <th>brand_safe</th>\n",
       "      <th>author_created_utc</th>\n",
       "    </tr>\n",
       "  </thead>\n",
       "  <tbody>\n",
       "    <tr>\n",
       "      <th>7330</th>\n",
       "      <td>False</td>\n",
       "      <td>[deleted]</td>\n",
       "      <td>None</td>\n",
       "      <td>None</td>\n",
       "      <td>None</td>\n",
       "      <td>None</td>\n",
       "      <td>None</td>\n",
       "      <td>None</td>\n",
       "      <td>None</td>\n",
       "      <td>False</td>\n",
       "      <td>...</td>\n",
       "      <td>None</td>\n",
       "      <td>None</td>\n",
       "      <td>NaN</td>\n",
       "      <td>None</td>\n",
       "      <td>None</td>\n",
       "      <td>NaN</td>\n",
       "      <td>None</td>\n",
       "      <td>None</td>\n",
       "      <td>None</td>\n",
       "      <td>NaN</td>\n",
       "    </tr>\n",
       "  </tbody>\n",
       "</table>\n",
       "<p>1 rows × 76 columns</p>\n",
       "</div>"
      ],
      "text/plain": [
       "     allow_live_comments     author author_flair_css_class author_flair_text  \\\n",
       "7330               False  [deleted]                   None              None   \n",
       "\n",
       "     author_flair_type author_fullname author_is_blocked author_patreon_flair  \\\n",
       "7330              None            None              None                 None   \n",
       "\n",
       "     author_premium can_mod_post  ... distinguished  removed_by updated_utc  \\\n",
       "7330           None        False  ...          None        None         NaN   \n",
       "\n",
       "     og_description og_title gilded rte_mode author_id brand_safe  \\\n",
       "7330           None     None    NaN     None      None       None   \n",
       "\n",
       "     author_created_utc  \n",
       "7330                NaN  \n",
       "\n",
       "[1 rows x 76 columns]"
      ]
     },
     "execution_count": 234,
     "metadata": {},
     "output_type": "execute_result"
    }
   ],
   "source": [
    "df[df[\"is_robot_indexable\"]==True][df[df[\"is_robot_indexable\"]==True].author.str.startswith(\"[\")]"
   ]
  },
  {
   "cell_type": "code",
   "execution_count": 235,
   "id": "a5506a54",
   "metadata": {},
   "outputs": [
    {
     "data": {
      "text/html": [
       "<div>\n",
       "<style scoped>\n",
       "    .dataframe tbody tr th:only-of-type {\n",
       "        vertical-align: middle;\n",
       "    }\n",
       "\n",
       "    .dataframe tbody tr th {\n",
       "        vertical-align: top;\n",
       "    }\n",
       "\n",
       "    .dataframe thead th {\n",
       "        text-align: right;\n",
       "    }\n",
       "</style>\n",
       "<table border=\"1\" class=\"dataframe\">\n",
       "  <thead>\n",
       "    <tr style=\"text-align: right;\">\n",
       "      <th></th>\n",
       "      <th>allow_live_comments</th>\n",
       "      <th>author</th>\n",
       "      <th>author_flair_css_class</th>\n",
       "      <th>author_flair_text</th>\n",
       "      <th>author_flair_type</th>\n",
       "      <th>author_fullname</th>\n",
       "      <th>author_is_blocked</th>\n",
       "      <th>author_patreon_flair</th>\n",
       "      <th>author_premium</th>\n",
       "      <th>can_mod_post</th>\n",
       "      <th>...</th>\n",
       "      <th>distinguished</th>\n",
       "      <th>removed_by</th>\n",
       "      <th>updated_utc</th>\n",
       "      <th>og_description</th>\n",
       "      <th>og_title</th>\n",
       "      <th>gilded</th>\n",
       "      <th>rte_mode</th>\n",
       "      <th>author_id</th>\n",
       "      <th>brand_safe</th>\n",
       "      <th>author_created_utc</th>\n",
       "    </tr>\n",
       "  </thead>\n",
       "  <tbody>\n",
       "  </tbody>\n",
       "</table>\n",
       "<p>0 rows × 76 columns</p>\n",
       "</div>"
      ],
      "text/plain": [
       "Empty DataFrame\n",
       "Columns: [allow_live_comments, author, author_flair_css_class, author_flair_text, author_flair_type, author_fullname, author_is_blocked, author_patreon_flair, author_premium, can_mod_post, contest_mode, created_utc, domain, full_link, id, is_created_from_ads_ui, is_crosspostable, is_meta, is_original_content, is_reddit_media_domain, is_robot_indexable, is_self, is_video, link_flair_background_color, link_flair_template_id, link_flair_text, link_flair_text_color, link_flair_type, locked, media_only, no_follow, num_comments, num_crossposts, over_18, parent_whitelist_status, permalink, pinned, retrieved_on, score, selftext, send_replies, spoiler, stickied, subreddit, subreddit_id, subreddit_subscribers, subreddit_type, thumbnail, title, total_awards_received, upvote_ratio, url, whitelist_status, post_hint, thumbnail_height, thumbnail_width, url_overridden_by_dest, removed_by_category, author_flair_background_color, author_flair_template_id, author_flair_text_color, author_cakeday, crosspost_parent, edited, banned_by, is_gallery, distinguished, removed_by, updated_utc, og_description, og_title, gilded, rte_mode, author_id, brand_safe, author_created_utc]\n",
       "Index: []\n",
       "\n",
       "[0 rows x 76 columns]"
      ]
     },
     "execution_count": 235,
     "metadata": {},
     "output_type": "execute_result"
    }
   ],
   "source": [
    "df[df[\"media_only\"] == True]"
   ]
  },
  {
   "cell_type": "code",
   "execution_count": 256,
   "id": "6e20e117",
   "metadata": {},
   "outputs": [
    {
     "data": {
      "text/plain": [
       "Issue: Unstructured text processing    1\n",
       "Name: title, dtype: int64"
      ]
     },
     "execution_count": 256,
     "metadata": {},
     "output_type": "execute_result"
    }
   ],
   "source": [
    "df[df[\"whitelist_status\"] == \"no_ads\"].title.value_counts()"
   ]
  },
  {
   "cell_type": "code",
   "execution_count": 281,
   "id": "28fb1c4e",
   "metadata": {},
   "outputs": [
    {
     "data": {
      "text/plain": [
       "[removed]                                                       575\n",
       "[deleted]                                                        41\n",
       "[removed]\\n\\n[View Poll](https://www.reddit.com/poll/or4ohx)      1\n",
       "[removed]\\n\\n[View Poll](https://www.reddit.com/poll/oliz8o)      1\n",
       "[removed]\\n\\n[View Poll](https://www.reddit.com/poll/o0ck41)      1\n",
       "[deleted]\\n\\n[View Poll](https://www.reddit.com/poll/lx4fi1)      1\n",
       "[removed]\\n\\n[View Poll](https://www.reddit.com/poll/il1hkp)      1\n",
       "[removed]\\n\\n[View Poll](https://www.reddit.com/poll/hvf5i6)      1\n",
       "Name: selftext, dtype: int64"
      ]
     },
     "execution_count": 281,
     "metadata": {},
     "output_type": "execute_result"
    }
   ],
   "source": [
    "df[(df[\"is_robot_indexable\"] == False) & (~df.removed_by_category.isnull())][\"selftext\"].value_counts()"
   ]
  },
  {
   "cell_type": "code",
   "execution_count": 296,
   "id": "fc7d6ec9",
   "metadata": {},
   "outputs": [],
   "source": [
    "robot_ids = df[df[\"is_robot_indexable\"] == False].id.values"
   ]
  },
  {
   "cell_type": "code",
   "execution_count": 319,
   "id": "e94e07e6",
   "metadata": {},
   "outputs": [
    {
     "data": {
      "text/plain": [
       "1169"
      ]
     },
     "execution_count": 319,
     "metadata": {},
     "output_type": "execute_result"
    }
   ],
   "source": [
    "len(robot_ids)"
   ]
  },
  {
   "cell_type": "code",
   "execution_count": 297,
   "id": "88065763",
   "metadata": {},
   "outputs": [],
   "source": [
    "removed_ids = df[(df.selftext.str.startswith(\"[removed]\") == True) | (~df.removed_by_category.isnull())].id.values"
   ]
  },
  {
   "cell_type": "code",
   "execution_count": 339,
   "id": "561cd398",
   "metadata": {},
   "outputs": [
    {
     "ename": "IndexError",
     "evalue": "single positional indexer is out-of-bounds",
     "output_type": "error",
     "traceback": [
      "\u001b[0;31m---------------------------------------------------------------------------\u001b[0m",
      "\u001b[0;31mIndexError\u001b[0m                                Traceback (most recent call last)",
      "\u001b[0;32m/var/folders/m8/4wf1gc_13fgfhnzfz74zs2v00000gq/T/ipykernel_13194/2831424899.py\u001b[0m in \u001b[0;36m<module>\u001b[0;34m\u001b[0m\n\u001b[0;32m----> 1\u001b[0;31m \u001b[0mdf\u001b[0m\u001b[0;34m[\u001b[0m\u001b[0mdf\u001b[0m\u001b[0;34m.\u001b[0m\u001b[0mid\u001b[0m\u001b[0;34m.\u001b[0m\u001b[0misin\u001b[0m\u001b[0;34m(\u001b[0m\u001b[0mlist\u001b[0m\u001b[0;34m(\u001b[0m\u001b[0mset\u001b[0m\u001b[0;34m(\u001b[0m\u001b[0mremoved_ids\u001b[0m\u001b[0;34m)\u001b[0m \u001b[0;34m-\u001b[0m \u001b[0mset\u001b[0m\u001b[0;34m(\u001b[0m\u001b[0mrobot_ids\u001b[0m\u001b[0;34m)\u001b[0m\u001b[0;34m)\u001b[0m\u001b[0;34m)\u001b[0m\u001b[0;34m]\u001b[0m\u001b[0;34m.\u001b[0m\u001b[0mfull_link\u001b[0m\u001b[0;34m.\u001b[0m\u001b[0miloc\u001b[0m\u001b[0;34m[\u001b[0m\u001b[0;36m4\u001b[0m\u001b[0;34m]\u001b[0m\u001b[0;34m\u001b[0m\u001b[0;34m\u001b[0m\u001b[0m\n\u001b[0m",
      "\u001b[0;32m~/.virtualenvs/reddit/lib/python3.8/site-packages/pandas/core/indexing.py\u001b[0m in \u001b[0;36m__getitem__\u001b[0;34m(self, key)\u001b[0m\n\u001b[1;32m    929\u001b[0m \u001b[0;34m\u001b[0m\u001b[0m\n\u001b[1;32m    930\u001b[0m             \u001b[0mmaybe_callable\u001b[0m \u001b[0;34m=\u001b[0m \u001b[0mcom\u001b[0m\u001b[0;34m.\u001b[0m\u001b[0mapply_if_callable\u001b[0m\u001b[0;34m(\u001b[0m\u001b[0mkey\u001b[0m\u001b[0;34m,\u001b[0m \u001b[0mself\u001b[0m\u001b[0;34m.\u001b[0m\u001b[0mobj\u001b[0m\u001b[0;34m)\u001b[0m\u001b[0;34m\u001b[0m\u001b[0;34m\u001b[0m\u001b[0m\n\u001b[0;32m--> 931\u001b[0;31m             \u001b[0;32mreturn\u001b[0m \u001b[0mself\u001b[0m\u001b[0;34m.\u001b[0m\u001b[0m_getitem_axis\u001b[0m\u001b[0;34m(\u001b[0m\u001b[0mmaybe_callable\u001b[0m\u001b[0;34m,\u001b[0m \u001b[0maxis\u001b[0m\u001b[0;34m=\u001b[0m\u001b[0maxis\u001b[0m\u001b[0;34m)\u001b[0m\u001b[0;34m\u001b[0m\u001b[0;34m\u001b[0m\u001b[0m\n\u001b[0m\u001b[1;32m    932\u001b[0m \u001b[0;34m\u001b[0m\u001b[0m\n\u001b[1;32m    933\u001b[0m     \u001b[0;32mdef\u001b[0m \u001b[0m_is_scalar_access\u001b[0m\u001b[0;34m(\u001b[0m\u001b[0mself\u001b[0m\u001b[0;34m,\u001b[0m \u001b[0mkey\u001b[0m\u001b[0;34m:\u001b[0m \u001b[0mtuple\u001b[0m\u001b[0;34m)\u001b[0m\u001b[0;34m:\u001b[0m\u001b[0;34m\u001b[0m\u001b[0;34m\u001b[0m\u001b[0m\n",
      "\u001b[0;32m~/.virtualenvs/reddit/lib/python3.8/site-packages/pandas/core/indexing.py\u001b[0m in \u001b[0;36m_getitem_axis\u001b[0;34m(self, key, axis)\u001b[0m\n\u001b[1;32m   1564\u001b[0m \u001b[0;34m\u001b[0m\u001b[0m\n\u001b[1;32m   1565\u001b[0m             \u001b[0;31m# validate the location\u001b[0m\u001b[0;34m\u001b[0m\u001b[0;34m\u001b[0m\u001b[0;34m\u001b[0m\u001b[0m\n\u001b[0;32m-> 1566\u001b[0;31m             \u001b[0mself\u001b[0m\u001b[0;34m.\u001b[0m\u001b[0m_validate_integer\u001b[0m\u001b[0;34m(\u001b[0m\u001b[0mkey\u001b[0m\u001b[0;34m,\u001b[0m \u001b[0maxis\u001b[0m\u001b[0;34m)\u001b[0m\u001b[0;34m\u001b[0m\u001b[0;34m\u001b[0m\u001b[0m\n\u001b[0m\u001b[1;32m   1567\u001b[0m \u001b[0;34m\u001b[0m\u001b[0m\n\u001b[1;32m   1568\u001b[0m             \u001b[0;32mreturn\u001b[0m \u001b[0mself\u001b[0m\u001b[0;34m.\u001b[0m\u001b[0mobj\u001b[0m\u001b[0;34m.\u001b[0m\u001b[0m_ixs\u001b[0m\u001b[0;34m(\u001b[0m\u001b[0mkey\u001b[0m\u001b[0;34m,\u001b[0m \u001b[0maxis\u001b[0m\u001b[0;34m=\u001b[0m\u001b[0maxis\u001b[0m\u001b[0;34m)\u001b[0m\u001b[0;34m\u001b[0m\u001b[0;34m\u001b[0m\u001b[0m\n",
      "\u001b[0;32m~/.virtualenvs/reddit/lib/python3.8/site-packages/pandas/core/indexing.py\u001b[0m in \u001b[0;36m_validate_integer\u001b[0;34m(self, key, axis)\u001b[0m\n\u001b[1;32m   1498\u001b[0m         \u001b[0mlen_axis\u001b[0m \u001b[0;34m=\u001b[0m \u001b[0mlen\u001b[0m\u001b[0;34m(\u001b[0m\u001b[0mself\u001b[0m\u001b[0;34m.\u001b[0m\u001b[0mobj\u001b[0m\u001b[0;34m.\u001b[0m\u001b[0m_get_axis\u001b[0m\u001b[0;34m(\u001b[0m\u001b[0maxis\u001b[0m\u001b[0;34m)\u001b[0m\u001b[0;34m)\u001b[0m\u001b[0;34m\u001b[0m\u001b[0;34m\u001b[0m\u001b[0m\n\u001b[1;32m   1499\u001b[0m         \u001b[0;32mif\u001b[0m \u001b[0mkey\u001b[0m \u001b[0;34m>=\u001b[0m \u001b[0mlen_axis\u001b[0m \u001b[0;32mor\u001b[0m \u001b[0mkey\u001b[0m \u001b[0;34m<\u001b[0m \u001b[0;34m-\u001b[0m\u001b[0mlen_axis\u001b[0m\u001b[0;34m:\u001b[0m\u001b[0;34m\u001b[0m\u001b[0;34m\u001b[0m\u001b[0m\n\u001b[0;32m-> 1500\u001b[0;31m             \u001b[0;32mraise\u001b[0m \u001b[0mIndexError\u001b[0m\u001b[0;34m(\u001b[0m\u001b[0;34m\"single positional indexer is out-of-bounds\"\u001b[0m\u001b[0;34m)\u001b[0m\u001b[0;34m\u001b[0m\u001b[0;34m\u001b[0m\u001b[0m\n\u001b[0m\u001b[1;32m   1501\u001b[0m \u001b[0;34m\u001b[0m\u001b[0m\n\u001b[1;32m   1502\u001b[0m     \u001b[0;31m# -------------------------------------------------------------------\u001b[0m\u001b[0;34m\u001b[0m\u001b[0;34m\u001b[0m\u001b[0;34m\u001b[0m\u001b[0m\n",
      "\u001b[0;31mIndexError\u001b[0m: single positional indexer is out-of-bounds"
     ]
    }
   ],
   "source": [
    "df[df.id.isin(list(set(removed_ids) - set(robot_ids)))].full_link.iloc[4]"
   ]
  },
  {
   "cell_type": "code",
   "execution_count": 320,
   "id": "5dcdd201",
   "metadata": {},
   "outputs": [
    {
     "data": {
      "text/plain": [
       "1150"
      ]
     },
     "execution_count": 320,
     "metadata": {},
     "output_type": "execute_result"
    }
   ],
   "source": [
    "len(removed_ids)"
   ]
  },
  {
   "cell_type": "code",
   "execution_count": 300,
   "id": "1b636a25",
   "metadata": {},
   "outputs": [],
   "source": [
    "missing_ids = list(set(robot_ids) - set(removed_ids))"
   ]
  },
  {
   "cell_type": "code",
   "execution_count": 310,
   "id": "aedd188f",
   "metadata": {
    "scrolled": false
   },
   "outputs": [
    {
     "data": {
      "text/plain": [
       "Index(['allow_live_comments', 'author', 'author_flair_css_class',\n",
       "       'author_flair_text', 'author_flair_type', 'author_fullname',\n",
       "       'author_is_blocked', 'author_patreon_flair', 'author_premium',\n",
       "       'can_mod_post', 'contest_mode', 'created_utc', 'domain', 'full_link',\n",
       "       'id', 'is_created_from_ads_ui', 'is_crosspostable', 'is_meta',\n",
       "       'is_original_content', 'is_reddit_media_domain', 'is_robot_indexable',\n",
       "       'is_self', 'is_video', 'link_flair_background_color',\n",
       "       'link_flair_template_id', 'link_flair_text', 'link_flair_text_color',\n",
       "       'link_flair_type', 'locked', 'media_only', 'no_follow', 'num_comments',\n",
       "       'num_crossposts', 'over_18', 'parent_whitelist_status', 'permalink',\n",
       "       'pinned', 'retrieved_on', 'score', 'selftext', 'send_replies',\n",
       "       'spoiler', 'stickied', 'subreddit', 'subreddit_id',\n",
       "       'subreddit_subscribers', 'subreddit_type', 'thumbnail', 'title',\n",
       "       'total_awards_received', 'upvote_ratio', 'url', 'whitelist_status',\n",
       "       'post_hint', 'thumbnail_height', 'thumbnail_width',\n",
       "       'url_overridden_by_dest', 'removed_by_category',\n",
       "       'author_flair_background_color', 'author_flair_template_id',\n",
       "       'author_flair_text_color', 'author_cakeday', 'crosspost_parent',\n",
       "       'edited', 'banned_by', 'is_gallery', 'distinguished', 'removed_by',\n",
       "       'updated_utc', 'og_description', 'og_title', 'gilded', 'rte_mode',\n",
       "       'author_id', 'brand_safe', 'author_created_utc'],\n",
       "      dtype='object')"
      ]
     },
     "execution_count": 310,
     "metadata": {},
     "output_type": "execute_result"
    }
   ],
   "source": [
    "df[df.id.isin(missing_ids)].iloc[2].index"
   ]
  },
  {
   "cell_type": "code",
   "execution_count": 318,
   "id": "023f6abd",
   "metadata": {},
   "outputs": [
    {
     "data": {
      "text/plain": [
       "False    7962\n",
       "NaN      1042\n",
       "True      114\n",
       "Name: author_premium, dtype: int64"
      ]
     },
     "execution_count": 318,
     "metadata": {},
     "output_type": "execute_result"
    }
   ],
   "source": [
    "df.author_premium.value_counts(dropna=False)"
   ]
  },
  {
   "cell_type": "code",
   "execution_count": 325,
   "id": "71d6797c",
   "metadata": {
    "scrolled": true
   },
   "outputs": [
    {
     "data": {
      "text/plain": [
       "self                                                                                6640\n",
       "default                                                                              634\n",
       "https://b.thumbs.redditmedia.com/eVEGvPPkUW1Jr0QcdFsz9VlJCeFmVHBBsiD34fDg_ro.jpg      10\n",
       "https://b.thumbs.redditmedia.com/0d9zYXCdZSUm71X_UkCsCDl97HwhT9TKLRCM3PX-_Fg.jpg       8\n",
       "spoiler                                                                                7\n",
       "                                                                                    ... \n",
       "https://b.thumbs.redditmedia.com/zVrKx4kej3VgdWLr37EprjBSpjqtofCMy_68zhRcuYg.jpg       1\n",
       "https://b.thumbs.redditmedia.com/evmwQYHfwLGnN-fnjyu-AM-XG-e24VFWz3GQCtCYLmY.jpg       1\n",
       "https://b.thumbs.redditmedia.com/5_J6OqyEz-BQi9vic9z3rCC12MW9etN3zPpnnb8W4iw.jpg       1\n",
       "https://a.thumbs.redditmedia.com/E_HFNdttns3-x7KHFdVq3-q5rfhGNt_DPZvGOWuwH64.jpg       1\n",
       "http://b.thumbs.redditmedia.com/waDTLBseemU-PBkFkuCbW-LWKZF4dLFoHObkiFiTfjs.jpg        1\n",
       "Name: thumbnail, Length: 1702, dtype: int64"
      ]
     },
     "execution_count": 325,
     "metadata": {},
     "output_type": "execute_result"
    }
   ],
   "source": [
    "df.thumbnail.value_counts(dropna=False)"
   ]
  },
  {
   "cell_type": "code",
   "execution_count": 329,
   "id": "ec4159c4",
   "metadata": {
    "scrolled": true
   },
   "outputs": [
    {
     "data": {
      "text/plain": [
       "1.00    7190\n",
       "NaN     1573\n",
       "0.50      57\n",
       "0.99      47\n",
       "0.67      36\n",
       "0.75      19\n",
       "0.81      13\n",
       "0.33      12\n",
       "0.86      11\n",
       "0.60      10\n",
       "0.83      10\n",
       "0.84      10\n",
       "0.94       8\n",
       "0.96       7\n",
       "0.89       7\n",
       "0.92       7\n",
       "0.93       7\n",
       "0.98       7\n",
       "0.91       6\n",
       "0.25       6\n",
       "0.80       5\n",
       "0.66       5\n",
       "0.88       5\n",
       "0.78       5\n",
       "0.87       4\n",
       "0.95       4\n",
       "0.97       4\n",
       "0.76       4\n",
       "0.72       3\n",
       "0.90       3\n",
       "0.82       3\n",
       "0.71       3\n",
       "0.57       3\n",
       "0.79       2\n",
       "0.40       2\n",
       "0.85       2\n",
       "0.20       2\n",
       "0.46       1\n",
       "0.73       1\n",
       "0.52       1\n",
       "0.21       1\n",
       "0.70       1\n",
       "0.53       1\n",
       "0.31       1\n",
       "0.38       1\n",
       "0.44       1\n",
       "0.35       1\n",
       "0.55       1\n",
       "0.62       1\n",
       "0.17       1\n",
       "0.29       1\n",
       "0.63       1\n",
       "0.74       1\n",
       "Name: upvote_ratio, dtype: int64"
      ]
     },
     "execution_count": 329,
     "metadata": {},
     "output_type": "execute_result"
    }
   ],
   "source": [
    "df.upvote_ratio.value_counts(dropna=False)"
   ]
  },
  {
   "cell_type": "code",
   "execution_count": 330,
   "id": "84b133b4",
   "metadata": {},
   "outputs": [
    {
     "data": {
      "text/html": [
       "<div>\n",
       "<style scoped>\n",
       "    .dataframe tbody tr th:only-of-type {\n",
       "        vertical-align: middle;\n",
       "    }\n",
       "\n",
       "    .dataframe tbody tr th {\n",
       "        vertical-align: top;\n",
       "    }\n",
       "\n",
       "    .dataframe thead th {\n",
       "        text-align: right;\n",
       "    }\n",
       "</style>\n",
       "<table border=\"1\" class=\"dataframe\">\n",
       "  <thead>\n",
       "    <tr style=\"text-align: right;\">\n",
       "      <th></th>\n",
       "      <th>8157</th>\n",
       "    </tr>\n",
       "  </thead>\n",
       "  <tbody>\n",
       "    <tr>\n",
       "      <th>og_title</th>\n",
       "      <td>None</td>\n",
       "    </tr>\n",
       "    <tr>\n",
       "      <th>gilded</th>\n",
       "      <td>NaN</td>\n",
       "    </tr>\n",
       "    <tr>\n",
       "      <th>rte_mode</th>\n",
       "      <td>None</td>\n",
       "    </tr>\n",
       "    <tr>\n",
       "      <th>author_id</th>\n",
       "      <td>None</td>\n",
       "    </tr>\n",
       "    <tr>\n",
       "      <th>brand_safe</th>\n",
       "      <td>None</td>\n",
       "    </tr>\n",
       "    <tr>\n",
       "      <th>author_created_utc</th>\n",
       "      <td>NaN</td>\n",
       "    </tr>\n",
       "  </tbody>\n",
       "</table>\n",
       "</div>"
      ],
      "text/plain": [
       "                    8157\n",
       "og_title            None\n",
       "gilded               NaN\n",
       "rte_mode            None\n",
       "author_id           None\n",
       "brand_safe          None\n",
       "author_created_utc   NaN"
      ]
     },
     "execution_count": 330,
     "metadata": {},
     "output_type": "execute_result"
    }
   ],
   "source": [
    "pd.DataFrame(df[df.id.isin(missing_ids)].iloc[2]).iloc[70:80]"
   ]
  },
  {
   "cell_type": "code",
   "execution_count": 288,
   "id": "ca590424",
   "metadata": {},
   "outputs": [
    {
     "data": {
      "text/plain": [
       "False    660\n",
       "NaN        4\n",
       "Name: is_robot_indexable, dtype: int64"
      ]
     },
     "execution_count": 288,
     "metadata": {},
     "output_type": "execute_result"
    }
   ],
   "source": [
    "df[df.selftext.str.startswith(\"[removed]\").fillna(False)][\"is_robot_indexable\"].value_counts(dropna=False)"
   ]
  },
  {
   "cell_type": "code",
   "execution_count": 289,
   "id": "d3123874",
   "metadata": {},
   "outputs": [
    {
     "data": {
      "text/plain": [
       "reddit              416\n",
       "automod_filtered     99\n",
       "NaN                  84\n",
       "moderator            65\n",
       "Name: removed_by_category, dtype: int64"
      ]
     },
     "execution_count": 289,
     "metadata": {},
     "output_type": "execute_result"
    }
   ],
   "source": [
    "df[df.selftext.str.startswith(\"[removed]\").fillna(False)][\"removed_by_category\"].value_counts(dropna=False)"
   ]
  },
  {
   "cell_type": "code",
   "execution_count": 342,
   "id": "a8b318b2",
   "metadata": {
    "scrolled": true
   },
   "outputs": [
    {
     "data": {
      "text/plain": [
       "NaN       9108\n",
       "reddit      10\n",
       "Name: removed_by, dtype: int64"
      ]
     },
     "execution_count": 342,
     "metadata": {},
     "output_type": "execute_result"
    }
   ],
   "source": [
    "df[\"removed_by\"].value_counts(dropna=False)"
   ]
  },
  {
   "cell_type": "code",
   "execution_count": 355,
   "id": "d6b533f8",
   "metadata": {},
   "outputs": [
    {
     "data": {
      "text/plain": [
       "False    117\n",
       "Name: brand_safe, dtype: int64"
      ]
     },
     "execution_count": 355,
     "metadata": {},
     "output_type": "execute_result"
    }
   ],
   "source": [
    "df[\"brand_safe\"].value_counts()"
   ]
  },
  {
   "cell_type": "code",
   "execution_count": 354,
   "id": "7c318e27",
   "metadata": {},
   "outputs": [
    {
     "data": {
      "text/html": [
       "<div>\n",
       "<style scoped>\n",
       "    .dataframe tbody tr th:only-of-type {\n",
       "        vertical-align: middle;\n",
       "    }\n",
       "\n",
       "    .dataframe tbody tr th {\n",
       "        vertical-align: top;\n",
       "    }\n",
       "\n",
       "    .dataframe thead th {\n",
       "        text-align: right;\n",
       "    }\n",
       "</style>\n",
       "<table border=\"1\" class=\"dataframe\">\n",
       "  <thead>\n",
       "    <tr style=\"text-align: right;\">\n",
       "      <th></th>\n",
       "      <th>total_awards_received</th>\n",
       "      <th>gilded</th>\n",
       "    </tr>\n",
       "  </thead>\n",
       "  <tbody>\n",
       "    <tr>\n",
       "      <th>540</th>\n",
       "      <td>NaN</td>\n",
       "      <td>NaN</td>\n",
       "    </tr>\n",
       "    <tr>\n",
       "      <th>1705</th>\n",
       "      <td>NaN</td>\n",
       "      <td>NaN</td>\n",
       "    </tr>\n",
       "    <tr>\n",
       "      <th>2219</th>\n",
       "      <td>NaN</td>\n",
       "      <td>NaN</td>\n",
       "    </tr>\n",
       "    <tr>\n",
       "      <th>4092</th>\n",
       "      <td>NaN</td>\n",
       "      <td>NaN</td>\n",
       "    </tr>\n",
       "    <tr>\n",
       "      <th>4130</th>\n",
       "      <td>NaN</td>\n",
       "      <td>NaN</td>\n",
       "    </tr>\n",
       "    <tr>\n",
       "      <th>...</th>\n",
       "      <td>...</td>\n",
       "      <td>...</td>\n",
       "    </tr>\n",
       "    <tr>\n",
       "      <th>9024</th>\n",
       "      <td>NaN</td>\n",
       "      <td>NaN</td>\n",
       "    </tr>\n",
       "    <tr>\n",
       "      <th>9025</th>\n",
       "      <td>NaN</td>\n",
       "      <td>NaN</td>\n",
       "    </tr>\n",
       "    <tr>\n",
       "      <th>9026</th>\n",
       "      <td>NaN</td>\n",
       "      <td>NaN</td>\n",
       "    </tr>\n",
       "    <tr>\n",
       "      <th>9027</th>\n",
       "      <td>NaN</td>\n",
       "      <td>NaN</td>\n",
       "    </tr>\n",
       "    <tr>\n",
       "      <th>9028</th>\n",
       "      <td>NaN</td>\n",
       "      <td>NaN</td>\n",
       "    </tr>\n",
       "  </tbody>\n",
       "</table>\n",
       "<p>278 rows × 2 columns</p>\n",
       "</div>"
      ],
      "text/plain": [
       "      total_awards_received  gilded\n",
       "540                     NaN     NaN\n",
       "1705                    NaN     NaN\n",
       "2219                    NaN     NaN\n",
       "4092                    NaN     NaN\n",
       "4130                    NaN     NaN\n",
       "...                     ...     ...\n",
       "9024                    NaN     NaN\n",
       "9025                    NaN     NaN\n",
       "9026                    NaN     NaN\n",
       "9027                    NaN     NaN\n",
       "9028                    NaN     NaN\n",
       "\n",
       "[278 rows x 2 columns]"
      ]
     },
     "execution_count": 354,
     "metadata": {},
     "output_type": "execute_result"
    }
   ],
   "source": [
    "df[(df.total_awards_received.isnull()) & (df.gilded.isnull())][[\"total_awards_received\", \"gilded\"]]"
   ]
  },
  {
   "cell_type": "code",
   "execution_count": 352,
   "id": "ada8918a",
   "metadata": {},
   "outputs": [
    {
     "data": {
      "text/plain": [
       "(9118, 76)"
      ]
     },
     "execution_count": 352,
     "metadata": {},
     "output_type": "execute_result"
    }
   ],
   "source": [
    "df.shape"
   ]
  },
  {
   "cell_type": "code",
   "execution_count": null,
   "id": "27f4290c",
   "metadata": {},
   "outputs": [],
   "source": []
  }
 ],
 "metadata": {
  "kernelspec": {
   "display_name": "Python 3 (ipykernel)",
   "language": "python",
   "name": "python3"
  },
  "language_info": {
   "codemirror_mode": {
    "name": "ipython",
    "version": 3
   },
   "file_extension": ".py",
   "mimetype": "text/x-python",
   "name": "python",
   "nbconvert_exporter": "python",
   "pygments_lexer": "ipython3",
   "version": "3.8.9"
  }
 },
 "nbformat": 4,
 "nbformat_minor": 5
}
