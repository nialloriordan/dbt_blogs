{
 "cells": [
  {
   "cell_type": "code",
   "execution_count": 1,
   "id": "c95ff1ec",
   "metadata": {},
   "outputs": [],
   "source": [
    "import requests\n",
    "from datetime import datetime\n",
    "import traceback\n",
    "import time\n",
    "import json\n",
    "import logging\n",
    "from tqdm.notebook import tqdm\n",
    "import pandas as pd"
   ]
  },
  {
   "cell_type": "markdown",
   "id": "9737db9e",
   "metadata": {},
   "source": [
    "## Set up Logging"
   ]
  },
  {
   "cell_type": "code",
   "execution_count": 2,
   "id": "6e4bc890",
   "metadata": {},
   "outputs": [],
   "source": [
    "logger = logging.getLogger(\"my app\")\n",
    "logger.setLevel(\"DEBUG\")\n",
    "ch = logging.StreamHandler()\n",
    "ch.setLevel(logging.DEBUG)\n",
    "formatter = logging.Formatter('%(asctime)s - %(name)s - %(levelname)s - %(message)s')\n",
    "ch.setFormatter(formatter)\n",
    "logger.addHandler(ch)"
   ]
  },
  {
   "cell_type": "markdown",
   "id": "aba27490",
   "metadata": {},
   "source": [
    "## Global Variables"
   ]
  },
  {
   "cell_type": "code",
   "execution_count": 3,
   "id": "ac450aeb",
   "metadata": {},
   "outputs": [],
   "source": [
    "subreddit = \"dataengineering\""
   ]
  },
  {
   "cell_type": "code",
   "execution_count": 4,
   "id": "7e32f431",
   "metadata": {},
   "outputs": [],
   "source": [
    "base_url = \"https://api.pushshift.io/reddit/submission/search?\\\n",
    "&subreddit={subreddit}\\\n",
    "&limit={limit}\\\n",
    "&sort={sort}\\\n",
    "&sort_type={sort_type}\\\n",
    "&before={end_timestamp}\\\n",
    "&{start_timestamp}\""
   ]
  },
  {
   "cell_type": "code",
   "execution_count": 5,
   "id": "44b7c61b",
   "metadata": {},
   "outputs": [],
   "source": [
    "valid_columns = [\n",
    "    'author',\n",
    "    'author_flair_css_class',\n",
    "    'author_flair_text',\n",
    "    'author_premium',\n",
    "    'created_utc',\n",
    "    'domain',\n",
    "    'full_link',\n",
    "    'id',\n",
    "    'is_robot_indexable',\n",
    "    'is_self',\n",
    "    'is_video',\n",
    "    'link_flair_text',\n",
    "    'no_follow',\n",
    "    'num_comments',\n",
    "    'permalink',\n",
    "    'post_hint',\n",
    "    'score',\n",
    "    'selftext',\n",
    "    'title',\n",
    "    'url',\n",
    "    'url_overridden_by_dest',\n",
    "    'removed_by_category',\n",
    "    'banned_by',\n",
    "    'removed_by',\n",
    "]"
   ]
  },
  {
   "cell_type": "markdown",
   "id": "049a388d",
   "metadata": {},
   "source": [
    "## helper functions"
   ]
  },
  {
   "cell_type": "code",
   "execution_count": 6,
   "id": "8ecd5f82",
   "metadata": {},
   "outputs": [],
   "source": [
    "def _get_post(post):\n",
    "    filtered_posts = {k:v for (k,v) in post.items() if k in valid_columns}\n",
    "    return filtered_posts\n",
    "                     \n",
    "def get_posts(json_objects):\n",
    "    posts = []\n",
    "    for post in tqdm(json_objects, len(posts)):\n",
    "        post_args = _get_post(post)\n",
    "        posts.append(post_args)\n",
    "    return posts"
   ]
  },
  {
   "cell_type": "markdown",
   "id": "2081ecbf",
   "metadata": {},
   "source": [
    "## Get all subreddit posts"
   ]
  },
  {
   "cell_type": "code",
   "execution_count": 7,
   "id": "b30d1c23",
   "metadata": {},
   "outputs": [],
   "source": [
    "def get_all_subreddit_posts(pushshift_args, full_refresh = True):\n",
    "    all_posts = []\n",
    "    start_time = datetime.utcnow()\n",
    "    previous_epoch = int(start_time.timestamp())\n",
    "    if not full_refresh:\n",
    "        pushshift_args[\"start_timestamp\"] = None\n",
    "    while True: # loop through requests until empty\n",
    "        pushshift_args[\"end_timestamp\"] = previous_epoch\n",
    "        request_url = base_url.format(**pushshift_args)\n",
    "        json_text = requests.get(request_url) # get reddit data via request from pushshift\n",
    "        time.sleep(1)\n",
    "        try: # parse request to json\n",
    "            json_request = json_text.json()\n",
    "        except json.decoder.JSONDecodeError as e:\n",
    "            logger.warning(\"Unable to Decode json request:\", e)\n",
    "            time.sleep(1)\n",
    "            continue\n",
    "            \n",
    "        json_objects = json_request.get('data', [])\n",
    "        if not json_objects: # check if result set is empty\n",
    "            logger.warning(\"Empty json request\")\n",
    "            break\n",
    "            \n",
    "        previous_epoch = json_objects[-1]['created_utc'] - 1\n",
    "        total_posts = len(json_objects)\n",
    "            \n",
    "        posts = get_posts(json_objects) # get posts from request\n",
    "        all_posts.extend(posts)\n",
    "        logger.info(f\"Processed {len(all_posts)} posts\")\n",
    "\n",
    "    logger.info(f\"Saved {len(all_posts)} posts\")\n",
    "    return all_posts"
   ]
  },
  {
   "cell_type": "code",
   "execution_count": 8,
   "id": "4f02391f",
   "metadata": {},
   "outputs": [],
   "source": [
    "pushshift_args = {\n",
    "    'subreddit': 'dataengineering',\n",
    "    'limit': 1000,\n",
    "    'sort': 'desc',\n",
    "    'sort_type': 'created_utc',\n",
    "    'end_timestamp': None,\n",
    "    'start_timestamp': None\n",
    "}"
   ]
  },
  {
   "cell_type": "code",
   "execution_count": 9,
   "id": "0a40599d",
   "metadata": {
    "scrolled": true
   },
   "outputs": [
    {
     "data": {
      "application/vnd.jupyter.widget-view+json": {
       "model_id": "acef66db3a1c474a99e9e5dc56c96679",
       "version_major": 2,
       "version_minor": 0
      },
      "text/plain": [
       "  0%|          | 0/100 [00:00<?, ?it/s]"
      ]
     },
     "metadata": {},
     "output_type": "display_data"
    },
    {
     "name": "stderr",
     "output_type": "stream",
     "text": [
      "2021-12-26 14:48:09,186 - my app - INFO - Processed 100 posts\n"
     ]
    },
    {
     "data": {
      "application/vnd.jupyter.widget-view+json": {
       "model_id": "6ca0b5a0bc1d4fa2bd44ad84239021d4",
       "version_major": 2,
       "version_minor": 0
      },
      "text/plain": [
       "  0%|          | 0/100 [00:00<?, ?it/s]"
      ]
     },
     "metadata": {},
     "output_type": "display_data"
    },
    {
     "name": "stderr",
     "output_type": "stream",
     "text": [
      "2021-12-26 14:48:11,098 - my app - INFO - Processed 200 posts\n"
     ]
    },
    {
     "data": {
      "application/vnd.jupyter.widget-view+json": {
       "model_id": "cd54e8bee31d44ef8178a588dffe5fe8",
       "version_major": 2,
       "version_minor": 0
      },
      "text/plain": [
       "  0%|          | 0/100 [00:00<?, ?it/s]"
      ]
     },
     "metadata": {},
     "output_type": "display_data"
    },
    {
     "name": "stderr",
     "output_type": "stream",
     "text": [
      "2021-12-26 14:48:12,973 - my app - INFO - Processed 300 posts\n"
     ]
    },
    {
     "data": {
      "application/vnd.jupyter.widget-view+json": {
       "model_id": "8d3150ea5b2b465685dd2a56f48256a7",
       "version_major": 2,
       "version_minor": 0
      },
      "text/plain": [
       "  0%|          | 0/100 [00:00<?, ?it/s]"
      ]
     },
     "metadata": {},
     "output_type": "display_data"
    },
    {
     "name": "stderr",
     "output_type": "stream",
     "text": [
      "2021-12-26 14:48:14,293 - my app - INFO - Processed 400 posts\n"
     ]
    },
    {
     "data": {
      "application/vnd.jupyter.widget-view+json": {
       "model_id": "08ded022b64649538505cadd71f25c55",
       "version_major": 2,
       "version_minor": 0
      },
      "text/plain": [
       "  0%|          | 0/100 [00:00<?, ?it/s]"
      ]
     },
     "metadata": {},
     "output_type": "display_data"
    },
    {
     "name": "stderr",
     "output_type": "stream",
     "text": [
      "2021-12-26 14:48:17,648 - my app - INFO - Processed 500 posts\n"
     ]
    },
    {
     "data": {
      "application/vnd.jupyter.widget-view+json": {
       "model_id": "84f8bcce13924060a9850ef48a7778ff",
       "version_major": 2,
       "version_minor": 0
      },
      "text/plain": [
       "  0%|          | 0/100 [00:00<?, ?it/s]"
      ]
     },
     "metadata": {},
     "output_type": "display_data"
    },
    {
     "name": "stderr",
     "output_type": "stream",
     "text": [
      "2021-12-26 14:48:19,554 - my app - INFO - Processed 600 posts\n"
     ]
    },
    {
     "data": {
      "application/vnd.jupyter.widget-view+json": {
       "model_id": "924f27cc5d10478e8fcf561a18408380",
       "version_major": 2,
       "version_minor": 0
      },
      "text/plain": [
       "  0%|          | 0/100 [00:00<?, ?it/s]"
      ]
     },
     "metadata": {},
     "output_type": "display_data"
    },
    {
     "name": "stderr",
     "output_type": "stream",
     "text": [
      "2021-12-26 14:48:21,034 - my app - INFO - Processed 700 posts\n"
     ]
    },
    {
     "data": {
      "application/vnd.jupyter.widget-view+json": {
       "model_id": "d6e48a35f16247959a782deac48d5064",
       "version_major": 2,
       "version_minor": 0
      },
      "text/plain": [
       "  0%|          | 0/100 [00:00<?, ?it/s]"
      ]
     },
     "metadata": {},
     "output_type": "display_data"
    },
    {
     "name": "stderr",
     "output_type": "stream",
     "text": [
      "2021-12-26 14:48:22,922 - my app - INFO - Processed 800 posts\n"
     ]
    },
    {
     "data": {
      "application/vnd.jupyter.widget-view+json": {
       "model_id": "65b696d8076143669d5cfcd9b82d9a01",
       "version_major": 2,
       "version_minor": 0
      },
      "text/plain": [
       "  0%|          | 0/100 [00:00<?, ?it/s]"
      ]
     },
     "metadata": {},
     "output_type": "display_data"
    },
    {
     "name": "stderr",
     "output_type": "stream",
     "text": [
      "2021-12-26 14:48:26,280 - my app - INFO - Processed 900 posts\n"
     ]
    },
    {
     "data": {
      "application/vnd.jupyter.widget-view+json": {
       "model_id": "f87a2646b54e4c9f9407b78dd2dc2fc3",
       "version_major": 2,
       "version_minor": 0
      },
      "text/plain": [
       "  0%|          | 0/100 [00:00<?, ?it/s]"
      ]
     },
     "metadata": {},
     "output_type": "display_data"
    },
    {
     "name": "stderr",
     "output_type": "stream",
     "text": [
      "2021-12-26 14:48:29,995 - my app - INFO - Processed 1000 posts\n"
     ]
    },
    {
     "data": {
      "application/vnd.jupyter.widget-view+json": {
       "model_id": "81e6a4934d0948348093df087db6beb2",
       "version_major": 2,
       "version_minor": 0
      },
      "text/plain": [
       "  0%|          | 0/100 [00:00<?, ?it/s]"
      ]
     },
     "metadata": {},
     "output_type": "display_data"
    },
    {
     "name": "stderr",
     "output_type": "stream",
     "text": [
      "2021-12-26 14:48:32,008 - my app - INFO - Processed 1100 posts\n"
     ]
    },
    {
     "data": {
      "application/vnd.jupyter.widget-view+json": {
       "model_id": "900a0e21c4da4ecfb385742587513b57",
       "version_major": 2,
       "version_minor": 0
      },
      "text/plain": [
       "  0%|          | 0/100 [00:00<?, ?it/s]"
      ]
     },
     "metadata": {},
     "output_type": "display_data"
    },
    {
     "name": "stderr",
     "output_type": "stream",
     "text": [
      "2021-12-26 14:48:33,683 - my app - INFO - Processed 1200 posts\n"
     ]
    },
    {
     "data": {
      "application/vnd.jupyter.widget-view+json": {
       "model_id": "f4e403c9fd8344e8a198a39ee3d278cb",
       "version_major": 2,
       "version_minor": 0
      },
      "text/plain": [
       "  0%|          | 0/100 [00:00<?, ?it/s]"
      ]
     },
     "metadata": {},
     "output_type": "display_data"
    },
    {
     "name": "stderr",
     "output_type": "stream",
     "text": [
      "2021-12-26 14:48:35,317 - my app - INFO - Processed 1300 posts\n"
     ]
    },
    {
     "data": {
      "application/vnd.jupyter.widget-view+json": {
       "model_id": "14831fc2e22746998985ad54cfb28498",
       "version_major": 2,
       "version_minor": 0
      },
      "text/plain": [
       "  0%|          | 0/100 [00:00<?, ?it/s]"
      ]
     },
     "metadata": {},
     "output_type": "display_data"
    },
    {
     "name": "stderr",
     "output_type": "stream",
     "text": [
      "2021-12-26 14:48:37,237 - my app - INFO - Processed 1400 posts\n"
     ]
    },
    {
     "data": {
      "application/vnd.jupyter.widget-view+json": {
       "model_id": "7a13fecaad064cbdbeab79703924f2ef",
       "version_major": 2,
       "version_minor": 0
      },
      "text/plain": [
       "  0%|          | 0/100 [00:00<?, ?it/s]"
      ]
     },
     "metadata": {},
     "output_type": "display_data"
    },
    {
     "name": "stderr",
     "output_type": "stream",
     "text": [
      "2021-12-26 14:48:38,865 - my app - INFO - Processed 1500 posts\n"
     ]
    },
    {
     "data": {
      "application/vnd.jupyter.widget-view+json": {
       "model_id": "118b8529249540acb31212536a21d4ac",
       "version_major": 2,
       "version_minor": 0
      },
      "text/plain": [
       "  0%|          | 0/100 [00:00<?, ?it/s]"
      ]
     },
     "metadata": {},
     "output_type": "display_data"
    },
    {
     "name": "stderr",
     "output_type": "stream",
     "text": [
      "2021-12-26 14:48:40,223 - my app - INFO - Processed 1600 posts\n"
     ]
    },
    {
     "data": {
      "application/vnd.jupyter.widget-view+json": {
       "model_id": "072355e4ede14c8fb1f4c576426cf243",
       "version_major": 2,
       "version_minor": 0
      },
      "text/plain": [
       "  0%|          | 0/100 [00:00<?, ?it/s]"
      ]
     },
     "metadata": {},
     "output_type": "display_data"
    },
    {
     "name": "stderr",
     "output_type": "stream",
     "text": [
      "2021-12-26 14:48:41,961 - my app - INFO - Processed 1700 posts\n"
     ]
    },
    {
     "data": {
      "application/vnd.jupyter.widget-view+json": {
       "model_id": "d5d61da966054f199bab2912cc9d48fa",
       "version_major": 2,
       "version_minor": 0
      },
      "text/plain": [
       "  0%|          | 0/100 [00:00<?, ?it/s]"
      ]
     },
     "metadata": {},
     "output_type": "display_data"
    },
    {
     "name": "stderr",
     "output_type": "stream",
     "text": [
      "2021-12-26 14:48:43,808 - my app - INFO - Processed 1800 posts\n"
     ]
    },
    {
     "data": {
      "application/vnd.jupyter.widget-view+json": {
       "model_id": "f996310f4c4e477189399bd75f438c27",
       "version_major": 2,
       "version_minor": 0
      },
      "text/plain": [
       "  0%|          | 0/100 [00:00<?, ?it/s]"
      ]
     },
     "metadata": {},
     "output_type": "display_data"
    },
    {
     "name": "stderr",
     "output_type": "stream",
     "text": [
      "2021-12-26 14:48:45,751 - my app - INFO - Processed 1900 posts\n"
     ]
    },
    {
     "data": {
      "application/vnd.jupyter.widget-view+json": {
       "model_id": "8de2191312f44652875c4c2c13b97546",
       "version_major": 2,
       "version_minor": 0
      },
      "text/plain": [
       "  0%|          | 0/100 [00:00<?, ?it/s]"
      ]
     },
     "metadata": {},
     "output_type": "display_data"
    },
    {
     "name": "stderr",
     "output_type": "stream",
     "text": [
      "2021-12-26 14:48:47,670 - my app - INFO - Processed 2000 posts\n"
     ]
    },
    {
     "data": {
      "application/vnd.jupyter.widget-view+json": {
       "model_id": "8f6b4ca4675845909e72f040b4825baa",
       "version_major": 2,
       "version_minor": 0
      },
      "text/plain": [
       "  0%|          | 0/100 [00:00<?, ?it/s]"
      ]
     },
     "metadata": {},
     "output_type": "display_data"
    },
    {
     "name": "stderr",
     "output_type": "stream",
     "text": [
      "2021-12-26 14:48:49,100 - my app - INFO - Processed 2100 posts\n"
     ]
    },
    {
     "data": {
      "application/vnd.jupyter.widget-view+json": {
       "model_id": "fa6fb3bc087649a6bb92e9f1fb3c1507",
       "version_major": 2,
       "version_minor": 0
      },
      "text/plain": [
       "  0%|          | 0/100 [00:00<?, ?it/s]"
      ]
     },
     "metadata": {},
     "output_type": "display_data"
    },
    {
     "name": "stderr",
     "output_type": "stream",
     "text": [
      "2021-12-26 14:48:50,612 - my app - INFO - Processed 2200 posts\n"
     ]
    },
    {
     "data": {
      "application/vnd.jupyter.widget-view+json": {
       "model_id": "36ebdf0a710a46c6a873930d004b0219",
       "version_major": 2,
       "version_minor": 0
      },
      "text/plain": [
       "  0%|          | 0/100 [00:00<?, ?it/s]"
      ]
     },
     "metadata": {},
     "output_type": "display_data"
    },
    {
     "name": "stderr",
     "output_type": "stream",
     "text": [
      "2021-12-26 14:48:53,661 - my app - INFO - Processed 2300 posts\n"
     ]
    },
    {
     "data": {
      "application/vnd.jupyter.widget-view+json": {
       "model_id": "323e2719bc6d4b2192b44e415102ce9a",
       "version_major": 2,
       "version_minor": 0
      },
      "text/plain": [
       "  0%|          | 0/100 [00:00<?, ?it/s]"
      ]
     },
     "metadata": {},
     "output_type": "display_data"
    },
    {
     "name": "stderr",
     "output_type": "stream",
     "text": [
      "2021-12-26 14:48:55,298 - my app - INFO - Processed 2400 posts\n"
     ]
    },
    {
     "data": {
      "application/vnd.jupyter.widget-view+json": {
       "model_id": "740ca6ca54e44989b5107f94e9417f8b",
       "version_major": 2,
       "version_minor": 0
      },
      "text/plain": [
       "  0%|          | 0/100 [00:00<?, ?it/s]"
      ]
     },
     "metadata": {},
     "output_type": "display_data"
    },
    {
     "name": "stderr",
     "output_type": "stream",
     "text": [
      "2021-12-26 14:48:56,874 - my app - INFO - Processed 2500 posts\n"
     ]
    },
    {
     "data": {
      "application/vnd.jupyter.widget-view+json": {
       "model_id": "41069d27583447f2b14cf88931b9f508",
       "version_major": 2,
       "version_minor": 0
      },
      "text/plain": [
       "  0%|          | 0/100 [00:00<?, ?it/s]"
      ]
     },
     "metadata": {},
     "output_type": "display_data"
    },
    {
     "name": "stderr",
     "output_type": "stream",
     "text": [
      "2021-12-26 14:48:58,234 - my app - INFO - Processed 2600 posts\n"
     ]
    },
    {
     "data": {
      "application/vnd.jupyter.widget-view+json": {
       "model_id": "475e408994044b868988a17a65a496c4",
       "version_major": 2,
       "version_minor": 0
      },
      "text/plain": [
       "  0%|          | 0/100 [00:00<?, ?it/s]"
      ]
     },
     "metadata": {},
     "output_type": "display_data"
    },
    {
     "name": "stderr",
     "output_type": "stream",
     "text": [
      "2021-12-26 14:49:00,008 - my app - INFO - Processed 2700 posts\n"
     ]
    },
    {
     "data": {
      "application/vnd.jupyter.widget-view+json": {
       "model_id": "fdd132a372e6419aaee5fa854725e546",
       "version_major": 2,
       "version_minor": 0
      },
      "text/plain": [
       "  0%|          | 0/100 [00:00<?, ?it/s]"
      ]
     },
     "metadata": {},
     "output_type": "display_data"
    },
    {
     "name": "stderr",
     "output_type": "stream",
     "text": [
      "2021-12-26 14:49:01,351 - my app - INFO - Processed 2800 posts\n"
     ]
    },
    {
     "data": {
      "application/vnd.jupyter.widget-view+json": {
       "model_id": "1cdc7859dfc249a68b8c72a551898988",
       "version_major": 2,
       "version_minor": 0
      },
      "text/plain": [
       "  0%|          | 0/100 [00:00<?, ?it/s]"
      ]
     },
     "metadata": {},
     "output_type": "display_data"
    },
    {
     "name": "stderr",
     "output_type": "stream",
     "text": [
      "2021-12-26 14:49:03,302 - my app - INFO - Processed 2900 posts\n"
     ]
    },
    {
     "data": {
      "application/vnd.jupyter.widget-view+json": {
       "model_id": "ed46decb26e84f2683559841dfd6ca59",
       "version_major": 2,
       "version_minor": 0
      },
      "text/plain": [
       "  0%|          | 0/100 [00:00<?, ?it/s]"
      ]
     },
     "metadata": {},
     "output_type": "display_data"
    },
    {
     "name": "stderr",
     "output_type": "stream",
     "text": [
      "2021-12-26 14:49:04,980 - my app - INFO - Processed 3000 posts\n"
     ]
    },
    {
     "data": {
      "application/vnd.jupyter.widget-view+json": {
       "model_id": "75b7e95119ef443eaff21fe59bf4e24e",
       "version_major": 2,
       "version_minor": 0
      },
      "text/plain": [
       "  0%|          | 0/100 [00:00<?, ?it/s]"
      ]
     },
     "metadata": {},
     "output_type": "display_data"
    },
    {
     "name": "stderr",
     "output_type": "stream",
     "text": [
      "2021-12-26 14:49:06,445 - my app - INFO - Processed 3100 posts\n"
     ]
    },
    {
     "data": {
      "application/vnd.jupyter.widget-view+json": {
       "model_id": "9fd7508db3c643f18c13d29abed075b1",
       "version_major": 2,
       "version_minor": 0
      },
      "text/plain": [
       "  0%|          | 0/100 [00:00<?, ?it/s]"
      ]
     },
     "metadata": {},
     "output_type": "display_data"
    },
    {
     "name": "stderr",
     "output_type": "stream",
     "text": [
      "2021-12-26 14:49:08,153 - my app - INFO - Processed 3200 posts\n"
     ]
    },
    {
     "data": {
      "application/vnd.jupyter.widget-view+json": {
       "model_id": "101c3266a9d84deea57bff8c01ce8f7a",
       "version_major": 2,
       "version_minor": 0
      },
      "text/plain": [
       "  0%|          | 0/100 [00:00<?, ?it/s]"
      ]
     },
     "metadata": {},
     "output_type": "display_data"
    },
    {
     "name": "stderr",
     "output_type": "stream",
     "text": [
      "2021-12-26 14:49:09,798 - my app - INFO - Processed 3300 posts\n"
     ]
    },
    {
     "data": {
      "application/vnd.jupyter.widget-view+json": {
       "model_id": "649607de67dd45f79237b616084c3f1c",
       "version_major": 2,
       "version_minor": 0
      },
      "text/plain": [
       "  0%|          | 0/100 [00:00<?, ?it/s]"
      ]
     },
     "metadata": {},
     "output_type": "display_data"
    },
    {
     "name": "stderr",
     "output_type": "stream",
     "text": [
      "2021-12-26 14:49:11,732 - my app - INFO - Processed 3400 posts\n"
     ]
    },
    {
     "data": {
      "application/vnd.jupyter.widget-view+json": {
       "model_id": "ef1b094c15014a3899f62e8b4f12a54d",
       "version_major": 2,
       "version_minor": 0
      },
      "text/plain": [
       "  0%|          | 0/100 [00:00<?, ?it/s]"
      ]
     },
     "metadata": {},
     "output_type": "display_data"
    },
    {
     "name": "stderr",
     "output_type": "stream",
     "text": [
      "2021-12-26 14:49:13,642 - my app - INFO - Processed 3500 posts\n"
     ]
    },
    {
     "data": {
      "application/vnd.jupyter.widget-view+json": {
       "model_id": "b2316dc549554f3bb398b72b7722d63c",
       "version_major": 2,
       "version_minor": 0
      },
      "text/plain": [
       "  0%|          | 0/99 [00:00<?, ?it/s]"
      ]
     },
     "metadata": {},
     "output_type": "display_data"
    },
    {
     "name": "stderr",
     "output_type": "stream",
     "text": [
      "2021-12-26 14:49:15,563 - my app - INFO - Processed 3599 posts\n"
     ]
    },
    {
     "data": {
      "application/vnd.jupyter.widget-view+json": {
       "model_id": "7ab61898ce1a4710a2afc8aeb87b844f",
       "version_major": 2,
       "version_minor": 0
      },
      "text/plain": [
       "  0%|          | 0/100 [00:00<?, ?it/s]"
      ]
     },
     "metadata": {},
     "output_type": "display_data"
    },
    {
     "name": "stderr",
     "output_type": "stream",
     "text": [
      "2021-12-26 14:49:17,276 - my app - INFO - Processed 3699 posts\n"
     ]
    },
    {
     "data": {
      "application/vnd.jupyter.widget-view+json": {
       "model_id": "724bbd0aca7a4c9d84d8b234040a1d00",
       "version_major": 2,
       "version_minor": 0
      },
      "text/plain": [
       "  0%|          | 0/100 [00:00<?, ?it/s]"
      ]
     },
     "metadata": {},
     "output_type": "display_data"
    },
    {
     "name": "stderr",
     "output_type": "stream",
     "text": [
      "2021-12-26 14:49:19,137 - my app - INFO - Processed 3799 posts\n"
     ]
    },
    {
     "data": {
      "application/vnd.jupyter.widget-view+json": {
       "model_id": "c64bfc59eafb4d41ad2cb97f8d1c0ddd",
       "version_major": 2,
       "version_minor": 0
      },
      "text/plain": [
       "  0%|          | 0/100 [00:00<?, ?it/s]"
      ]
     },
     "metadata": {},
     "output_type": "display_data"
    },
    {
     "name": "stderr",
     "output_type": "stream",
     "text": [
      "2021-12-26 14:49:21,432 - my app - INFO - Processed 3899 posts\n"
     ]
    },
    {
     "data": {
      "application/vnd.jupyter.widget-view+json": {
       "model_id": "1584b1589ce040ca9586ccfd354decab",
       "version_major": 2,
       "version_minor": 0
      },
      "text/plain": [
       "  0%|          | 0/100 [00:00<?, ?it/s]"
      ]
     },
     "metadata": {},
     "output_type": "display_data"
    },
    {
     "name": "stderr",
     "output_type": "stream",
     "text": [
      "2021-12-26 14:49:23,404 - my app - INFO - Processed 3999 posts\n"
     ]
    },
    {
     "data": {
      "application/vnd.jupyter.widget-view+json": {
       "model_id": "122e9e1e2d064e9b8877ea9d8293e72b",
       "version_major": 2,
       "version_minor": 0
      },
      "text/plain": [
       "  0%|          | 0/100 [00:00<?, ?it/s]"
      ]
     },
     "metadata": {},
     "output_type": "display_data"
    },
    {
     "name": "stderr",
     "output_type": "stream",
     "text": [
      "2021-12-26 14:49:24,768 - my app - INFO - Processed 4099 posts\n"
     ]
    },
    {
     "data": {
      "application/vnd.jupyter.widget-view+json": {
       "model_id": "283c031b8e0f4ac78086c038d6945322",
       "version_major": 2,
       "version_minor": 0
      },
      "text/plain": [
       "  0%|          | 0/100 [00:00<?, ?it/s]"
      ]
     },
     "metadata": {},
     "output_type": "display_data"
    },
    {
     "name": "stderr",
     "output_type": "stream",
     "text": [
      "2021-12-26 14:49:26,203 - my app - INFO - Processed 4199 posts\n"
     ]
    },
    {
     "data": {
      "application/vnd.jupyter.widget-view+json": {
       "model_id": "ac2afd789c4d45e9b6da2c0012901d52",
       "version_major": 2,
       "version_minor": 0
      },
      "text/plain": [
       "  0%|          | 0/100 [00:00<?, ?it/s]"
      ]
     },
     "metadata": {},
     "output_type": "display_data"
    },
    {
     "name": "stderr",
     "output_type": "stream",
     "text": [
      "2021-12-26 14:49:29,466 - my app - INFO - Processed 4299 posts\n"
     ]
    },
    {
     "data": {
      "application/vnd.jupyter.widget-view+json": {
       "model_id": "7e2b00e0d8f54296af81cca9d5e5d2ad",
       "version_major": 2,
       "version_minor": 0
      },
      "text/plain": [
       "  0%|          | 0/100 [00:00<?, ?it/s]"
      ]
     },
     "metadata": {},
     "output_type": "display_data"
    },
    {
     "name": "stderr",
     "output_type": "stream",
     "text": [
      "2021-12-26 14:49:31,355 - my app - INFO - Processed 4399 posts\n"
     ]
    },
    {
     "data": {
      "application/vnd.jupyter.widget-view+json": {
       "model_id": "537e79d618e84e18aa7c04d482061323",
       "version_major": 2,
       "version_minor": 0
      },
      "text/plain": [
       "  0%|          | 0/100 [00:00<?, ?it/s]"
      ]
     },
     "metadata": {},
     "output_type": "display_data"
    },
    {
     "name": "stderr",
     "output_type": "stream",
     "text": [
      "2021-12-26 14:49:33,251 - my app - INFO - Processed 4499 posts\n"
     ]
    },
    {
     "data": {
      "application/vnd.jupyter.widget-view+json": {
       "model_id": "78056ab0ddee4a10a6bef148429f61c5",
       "version_major": 2,
       "version_minor": 0
      },
      "text/plain": [
       "  0%|          | 0/100 [00:00<?, ?it/s]"
      ]
     },
     "metadata": {},
     "output_type": "display_data"
    },
    {
     "name": "stderr",
     "output_type": "stream",
     "text": [
      "2021-12-26 14:49:34,624 - my app - INFO - Processed 4599 posts\n"
     ]
    },
    {
     "data": {
      "application/vnd.jupyter.widget-view+json": {
       "model_id": "3a77720cf2aa47c3a9f150805be53cdf",
       "version_major": 2,
       "version_minor": 0
      },
      "text/plain": [
       "  0%|          | 0/100 [00:00<?, ?it/s]"
      ]
     },
     "metadata": {},
     "output_type": "display_data"
    },
    {
     "name": "stderr",
     "output_type": "stream",
     "text": [
      "2021-12-26 14:49:36,103 - my app - INFO - Processed 4699 posts\n"
     ]
    },
    {
     "data": {
      "application/vnd.jupyter.widget-view+json": {
       "model_id": "ded06560190d4d0eb64c6bf225173ced",
       "version_major": 2,
       "version_minor": 0
      },
      "text/plain": [
       "  0%|          | 0/100 [00:00<?, ?it/s]"
      ]
     },
     "metadata": {},
     "output_type": "display_data"
    },
    {
     "name": "stderr",
     "output_type": "stream",
     "text": [
      "2021-12-26 14:49:37,993 - my app - INFO - Processed 4799 posts\n"
     ]
    },
    {
     "data": {
      "application/vnd.jupyter.widget-view+json": {
       "model_id": "a02b9f9542f74d73b0bc90660398bdf1",
       "version_major": 2,
       "version_minor": 0
      },
      "text/plain": [
       "  0%|          | 0/100 [00:00<?, ?it/s]"
      ]
     },
     "metadata": {},
     "output_type": "display_data"
    },
    {
     "name": "stderr",
     "output_type": "stream",
     "text": [
      "2021-12-26 14:49:41,631 - my app - INFO - Processed 4899 posts\n"
     ]
    },
    {
     "data": {
      "application/vnd.jupyter.widget-view+json": {
       "model_id": "71bd60c52f6641c9818a817274a71b77",
       "version_major": 2,
       "version_minor": 0
      },
      "text/plain": [
       "  0%|          | 0/99 [00:00<?, ?it/s]"
      ]
     },
     "metadata": {},
     "output_type": "display_data"
    },
    {
     "name": "stderr",
     "output_type": "stream",
     "text": [
      "2021-12-26 14:49:43,541 - my app - INFO - Processed 4998 posts\n"
     ]
    },
    {
     "data": {
      "application/vnd.jupyter.widget-view+json": {
       "model_id": "15f8b5e70f4f4409ae7c96d6b6c3a18b",
       "version_major": 2,
       "version_minor": 0
      },
      "text/plain": [
       "  0%|          | 0/100 [00:00<?, ?it/s]"
      ]
     },
     "metadata": {},
     "output_type": "display_data"
    },
    {
     "name": "stderr",
     "output_type": "stream",
     "text": [
      "2021-12-26 14:49:45,434 - my app - INFO - Processed 5098 posts\n"
     ]
    },
    {
     "data": {
      "application/vnd.jupyter.widget-view+json": {
       "model_id": "b05b5bc5a0a848acaf7eb026f6c85d66",
       "version_major": 2,
       "version_minor": 0
      },
      "text/plain": [
       "  0%|          | 0/100 [00:00<?, ?it/s]"
      ]
     },
     "metadata": {},
     "output_type": "display_data"
    },
    {
     "name": "stderr",
     "output_type": "stream",
     "text": [
      "2021-12-26 14:49:47,407 - my app - INFO - Processed 5198 posts\n"
     ]
    },
    {
     "data": {
      "application/vnd.jupyter.widget-view+json": {
       "model_id": "9f873d9e1dbf46c6910f36d67284e353",
       "version_major": 2,
       "version_minor": 0
      },
      "text/plain": [
       "  0%|          | 0/100 [00:00<?, ?it/s]"
      ]
     },
     "metadata": {},
     "output_type": "display_data"
    },
    {
     "name": "stderr",
     "output_type": "stream",
     "text": [
      "2021-12-26 14:49:48,831 - my app - INFO - Processed 5298 posts\n"
     ]
    },
    {
     "data": {
      "application/vnd.jupyter.widget-view+json": {
       "model_id": "7106759bb4274c0ab17c86ac6488554e",
       "version_major": 2,
       "version_minor": 0
      },
      "text/plain": [
       "  0%|          | 0/99 [00:00<?, ?it/s]"
      ]
     },
     "metadata": {},
     "output_type": "display_data"
    },
    {
     "name": "stderr",
     "output_type": "stream",
     "text": [
      "2021-12-26 14:49:50,556 - my app - INFO - Processed 5397 posts\n"
     ]
    },
    {
     "data": {
      "application/vnd.jupyter.widget-view+json": {
       "model_id": "c1441e61c9c34f94817fda29fad310e5",
       "version_major": 2,
       "version_minor": 0
      },
      "text/plain": [
       "  0%|          | 0/100 [00:00<?, ?it/s]"
      ]
     },
     "metadata": {},
     "output_type": "display_data"
    },
    {
     "name": "stderr",
     "output_type": "stream",
     "text": [
      "2021-12-26 14:49:51,921 - my app - INFO - Processed 5497 posts\n"
     ]
    },
    {
     "data": {
      "application/vnd.jupyter.widget-view+json": {
       "model_id": "5cfbf4ee573a455dbb69b32e378865af",
       "version_major": 2,
       "version_minor": 0
      },
      "text/plain": [
       "  0%|          | 0/100 [00:00<?, ?it/s]"
      ]
     },
     "metadata": {},
     "output_type": "display_data"
    },
    {
     "name": "stderr",
     "output_type": "stream",
     "text": [
      "2021-12-26 14:49:53,790 - my app - INFO - Processed 5597 posts\n"
     ]
    },
    {
     "data": {
      "application/vnd.jupyter.widget-view+json": {
       "model_id": "93c8033fc0c9407cbb9611cc872a0b31",
       "version_major": 2,
       "version_minor": 0
      },
      "text/plain": [
       "  0%|          | 0/100 [00:00<?, ?it/s]"
      ]
     },
     "metadata": {},
     "output_type": "display_data"
    },
    {
     "name": "stderr",
     "output_type": "stream",
     "text": [
      "2021-12-26 14:49:55,372 - my app - INFO - Processed 5697 posts\n"
     ]
    },
    {
     "data": {
      "application/vnd.jupyter.widget-view+json": {
       "model_id": "c3df3ba67bc7468ca07dd2c1bbb05f5a",
       "version_major": 2,
       "version_minor": 0
      },
      "text/plain": [
       "  0%|          | 0/100 [00:00<?, ?it/s]"
      ]
     },
     "metadata": {},
     "output_type": "display_data"
    },
    {
     "name": "stderr",
     "output_type": "stream",
     "text": [
      "2021-12-26 14:49:57,344 - my app - INFO - Processed 5797 posts\n"
     ]
    },
    {
     "data": {
      "application/vnd.jupyter.widget-view+json": {
       "model_id": "c2833a4f5184431fbfc889eddfe2f31c",
       "version_major": 2,
       "version_minor": 0
      },
      "text/plain": [
       "  0%|          | 0/100 [00:00<?, ?it/s]"
      ]
     },
     "metadata": {},
     "output_type": "display_data"
    },
    {
     "name": "stderr",
     "output_type": "stream",
     "text": [
      "2021-12-26 14:49:59,240 - my app - INFO - Processed 5897 posts\n"
     ]
    },
    {
     "data": {
      "application/vnd.jupyter.widget-view+json": {
       "model_id": "482ec93b7c95410bb34b0f3baa2767e5",
       "version_major": 2,
       "version_minor": 0
      },
      "text/plain": [
       "  0%|          | 0/100 [00:00<?, ?it/s]"
      ]
     },
     "metadata": {},
     "output_type": "display_data"
    },
    {
     "name": "stderr",
     "output_type": "stream",
     "text": [
      "2021-12-26 14:50:01,258 - my app - INFO - Processed 5997 posts\n"
     ]
    },
    {
     "data": {
      "application/vnd.jupyter.widget-view+json": {
       "model_id": "8717b9518f62421bb9a0deeb94b28f8a",
       "version_major": 2,
       "version_minor": 0
      },
      "text/plain": [
       "  0%|          | 0/100 [00:00<?, ?it/s]"
      ]
     },
     "metadata": {},
     "output_type": "display_data"
    },
    {
     "name": "stderr",
     "output_type": "stream",
     "text": [
      "2021-12-26 14:50:04,608 - my app - INFO - Processed 6097 posts\n"
     ]
    },
    {
     "data": {
      "application/vnd.jupyter.widget-view+json": {
       "model_id": "7a5b18d099cb483f87b1b3ddb2b50dae",
       "version_major": 2,
       "version_minor": 0
      },
      "text/plain": [
       "  0%|          | 0/100 [00:00<?, ?it/s]"
      ]
     },
     "metadata": {},
     "output_type": "display_data"
    },
    {
     "name": "stderr",
     "output_type": "stream",
     "text": [
      "2021-12-26 14:50:06,714 - my app - INFO - Processed 6197 posts\n"
     ]
    },
    {
     "data": {
      "application/vnd.jupyter.widget-view+json": {
       "model_id": "01cb106efcf54c00ae00610e9c403a51",
       "version_major": 2,
       "version_minor": 0
      },
      "text/plain": [
       "  0%|          | 0/100 [00:00<?, ?it/s]"
      ]
     },
     "metadata": {},
     "output_type": "display_data"
    },
    {
     "name": "stderr",
     "output_type": "stream",
     "text": [
      "2021-12-26 14:50:08,861 - my app - INFO - Processed 6297 posts\n"
     ]
    },
    {
     "data": {
      "application/vnd.jupyter.widget-view+json": {
       "model_id": "3f6190bf228948c5b442995a264e60e1",
       "version_major": 2,
       "version_minor": 0
      },
      "text/plain": [
       "  0%|          | 0/100 [00:00<?, ?it/s]"
      ]
     },
     "metadata": {},
     "output_type": "display_data"
    },
    {
     "name": "stderr",
     "output_type": "stream",
     "text": [
      "2021-12-26 14:50:10,782 - my app - INFO - Processed 6397 posts\n"
     ]
    },
    {
     "data": {
      "application/vnd.jupyter.widget-view+json": {
       "model_id": "2e6953193eee401e87d5200aac663559",
       "version_major": 2,
       "version_minor": 0
      },
      "text/plain": [
       "  0%|          | 0/100 [00:00<?, ?it/s]"
      ]
     },
     "metadata": {},
     "output_type": "display_data"
    },
    {
     "name": "stderr",
     "output_type": "stream",
     "text": [
      "2021-12-26 14:50:15,158 - my app - INFO - Processed 6497 posts\n"
     ]
    },
    {
     "data": {
      "application/vnd.jupyter.widget-view+json": {
       "model_id": "a85ac22a14524a39a787062a930d2387",
       "version_major": 2,
       "version_minor": 0
      },
      "text/plain": [
       "  0%|          | 0/100 [00:00<?, ?it/s]"
      ]
     },
     "metadata": {},
     "output_type": "display_data"
    },
    {
     "name": "stderr",
     "output_type": "stream",
     "text": [
      "2021-12-26 14:50:16,480 - my app - INFO - Processed 6597 posts\n"
     ]
    },
    {
     "data": {
      "application/vnd.jupyter.widget-view+json": {
       "model_id": "39513c9cc6684cf0a69b8d81f2dc0b10",
       "version_major": 2,
       "version_minor": 0
      },
      "text/plain": [
       "  0%|          | 0/100 [00:00<?, ?it/s]"
      ]
     },
     "metadata": {},
     "output_type": "display_data"
    },
    {
     "name": "stderr",
     "output_type": "stream",
     "text": [
      "2021-12-26 14:50:18,365 - my app - INFO - Processed 6697 posts\n"
     ]
    },
    {
     "data": {
      "application/vnd.jupyter.widget-view+json": {
       "model_id": "a9017c8dd32445fda2e51ca5c994d505",
       "version_major": 2,
       "version_minor": 0
      },
      "text/plain": [
       "  0%|          | 0/100 [00:00<?, ?it/s]"
      ]
     },
     "metadata": {},
     "output_type": "display_data"
    },
    {
     "name": "stderr",
     "output_type": "stream",
     "text": [
      "2021-12-26 14:50:20,274 - my app - INFO - Processed 6797 posts\n"
     ]
    },
    {
     "data": {
      "application/vnd.jupyter.widget-view+json": {
       "model_id": "e07c5182f94d4e80820dd4aa4eb2ec9d",
       "version_major": 2,
       "version_minor": 0
      },
      "text/plain": [
       "  0%|          | 0/100 [00:00<?, ?it/s]"
      ]
     },
     "metadata": {},
     "output_type": "display_data"
    },
    {
     "name": "stderr",
     "output_type": "stream",
     "text": [
      "2021-12-26 14:50:21,869 - my app - INFO - Processed 6897 posts\n"
     ]
    },
    {
     "data": {
      "application/vnd.jupyter.widget-view+json": {
       "model_id": "845c29286e7c4a25bf21bf1a1d563af2",
       "version_major": 2,
       "version_minor": 0
      },
      "text/plain": [
       "  0%|          | 0/100 [00:00<?, ?it/s]"
      ]
     },
     "metadata": {},
     "output_type": "display_data"
    },
    {
     "name": "stderr",
     "output_type": "stream",
     "text": [
      "2021-12-26 14:50:23,432 - my app - INFO - Processed 6997 posts\n"
     ]
    },
    {
     "data": {
      "application/vnd.jupyter.widget-view+json": {
       "model_id": "09d2394cc05e4f9b9bf75c841093e4fe",
       "version_major": 2,
       "version_minor": 0
      },
      "text/plain": [
       "  0%|          | 0/100 [00:00<?, ?it/s]"
      ]
     },
     "metadata": {},
     "output_type": "display_data"
    },
    {
     "name": "stderr",
     "output_type": "stream",
     "text": [
      "2021-12-26 14:50:25,394 - my app - INFO - Processed 7097 posts\n"
     ]
    },
    {
     "data": {
      "application/vnd.jupyter.widget-view+json": {
       "model_id": "f617e3aa47cd4db1b4c203dc679a113b",
       "version_major": 2,
       "version_minor": 0
      },
      "text/plain": [
       "  0%|          | 0/100 [00:00<?, ?it/s]"
      ]
     },
     "metadata": {},
     "output_type": "display_data"
    },
    {
     "name": "stderr",
     "output_type": "stream",
     "text": [
      "2021-12-26 14:50:27,076 - my app - INFO - Processed 7197 posts\n"
     ]
    },
    {
     "data": {
      "application/vnd.jupyter.widget-view+json": {
       "model_id": "fedb88ca8b4c453c8e74f98533bc9429",
       "version_major": 2,
       "version_minor": 0
      },
      "text/plain": [
       "  0%|          | 0/100 [00:00<?, ?it/s]"
      ]
     },
     "metadata": {},
     "output_type": "display_data"
    },
    {
     "name": "stderr",
     "output_type": "stream",
     "text": [
      "2021-12-26 14:50:28,992 - my app - INFO - Processed 7297 posts\n"
     ]
    },
    {
     "data": {
      "application/vnd.jupyter.widget-view+json": {
       "model_id": "a48c61a02b204e9ab76fc6dc8a0d8efe",
       "version_major": 2,
       "version_minor": 0
      },
      "text/plain": [
       "  0%|          | 0/100 [00:00<?, ?it/s]"
      ]
     },
     "metadata": {},
     "output_type": "display_data"
    },
    {
     "name": "stderr",
     "output_type": "stream",
     "text": [
      "2021-12-26 14:50:30,409 - my app - INFO - Processed 7397 posts\n"
     ]
    },
    {
     "data": {
      "application/vnd.jupyter.widget-view+json": {
       "model_id": "c69f8f5aef5947499542b42072a7370c",
       "version_major": 2,
       "version_minor": 0
      },
      "text/plain": [
       "  0%|          | 0/100 [00:00<?, ?it/s]"
      ]
     },
     "metadata": {},
     "output_type": "display_data"
    },
    {
     "name": "stderr",
     "output_type": "stream",
     "text": [
      "2021-12-26 14:50:32,046 - my app - INFO - Processed 7497 posts\n"
     ]
    },
    {
     "data": {
      "application/vnd.jupyter.widget-view+json": {
       "model_id": "751bd2c3c75e486e9de57b9632fd889f",
       "version_major": 2,
       "version_minor": 0
      },
      "text/plain": [
       "  0%|          | 0/100 [00:00<?, ?it/s]"
      ]
     },
     "metadata": {},
     "output_type": "display_data"
    },
    {
     "name": "stderr",
     "output_type": "stream",
     "text": [
      "2021-12-26 14:50:33,440 - my app - INFO - Processed 7597 posts\n"
     ]
    },
    {
     "data": {
      "application/vnd.jupyter.widget-view+json": {
       "model_id": "3fb45a0e2cda45bcbfd47b6d1d09ee73",
       "version_major": 2,
       "version_minor": 0
      },
      "text/plain": [
       "  0%|          | 0/100 [00:00<?, ?it/s]"
      ]
     },
     "metadata": {},
     "output_type": "display_data"
    },
    {
     "name": "stderr",
     "output_type": "stream",
     "text": [
      "2021-12-26 14:50:35,198 - my app - INFO - Processed 7697 posts\n"
     ]
    },
    {
     "data": {
      "application/vnd.jupyter.widget-view+json": {
       "model_id": "dbe8681514504364a513ab4e710ae84d",
       "version_major": 2,
       "version_minor": 0
      },
      "text/plain": [
       "  0%|          | 0/100 [00:00<?, ?it/s]"
      ]
     },
     "metadata": {},
     "output_type": "display_data"
    },
    {
     "name": "stderr",
     "output_type": "stream",
     "text": [
      "2021-12-26 14:50:36,505 - my app - INFO - Processed 7797 posts\n"
     ]
    },
    {
     "data": {
      "application/vnd.jupyter.widget-view+json": {
       "model_id": "2b9295be3f1b428a8ea0b46941b87acf",
       "version_major": 2,
       "version_minor": 0
      },
      "text/plain": [
       "  0%|          | 0/100 [00:00<?, ?it/s]"
      ]
     },
     "metadata": {},
     "output_type": "display_data"
    },
    {
     "name": "stderr",
     "output_type": "stream",
     "text": [
      "2021-12-26 14:50:38,671 - my app - INFO - Processed 7897 posts\n"
     ]
    },
    {
     "data": {
      "application/vnd.jupyter.widget-view+json": {
       "model_id": "9ce3846f4aa94889ba81e5eacdc0f15f",
       "version_major": 2,
       "version_minor": 0
      },
      "text/plain": [
       "  0%|          | 0/100 [00:00<?, ?it/s]"
      ]
     },
     "metadata": {},
     "output_type": "display_data"
    },
    {
     "name": "stderr",
     "output_type": "stream",
     "text": [
      "2021-12-26 14:50:40,632 - my app - INFO - Processed 7997 posts\n"
     ]
    },
    {
     "data": {
      "application/vnd.jupyter.widget-view+json": {
       "model_id": "81ce828969854cb8b21413dbb853ca15",
       "version_major": 2,
       "version_minor": 0
      },
      "text/plain": [
       "  0%|          | 0/100 [00:00<?, ?it/s]"
      ]
     },
     "metadata": {},
     "output_type": "display_data"
    },
    {
     "name": "stderr",
     "output_type": "stream",
     "text": [
      "2021-12-26 14:50:41,936 - my app - INFO - Processed 8097 posts\n"
     ]
    },
    {
     "data": {
      "application/vnd.jupyter.widget-view+json": {
       "model_id": "2360fc81a5f046cc9a0391427eafb0b8",
       "version_major": 2,
       "version_minor": 0
      },
      "text/plain": [
       "  0%|          | 0/100 [00:00<?, ?it/s]"
      ]
     },
     "metadata": {},
     "output_type": "display_data"
    },
    {
     "name": "stderr",
     "output_type": "stream",
     "text": [
      "2021-12-26 14:50:44,023 - my app - INFO - Processed 8197 posts\n"
     ]
    },
    {
     "data": {
      "application/vnd.jupyter.widget-view+json": {
       "model_id": "7f68c3edf8f94039ab39ab7d0df22588",
       "version_major": 2,
       "version_minor": 0
      },
      "text/plain": [
       "  0%|          | 0/100 [00:00<?, ?it/s]"
      ]
     },
     "metadata": {},
     "output_type": "display_data"
    },
    {
     "name": "stderr",
     "output_type": "stream",
     "text": [
      "2021-12-26 14:50:45,407 - my app - INFO - Processed 8297 posts\n"
     ]
    },
    {
     "data": {
      "application/vnd.jupyter.widget-view+json": {
       "model_id": "606e4e2ebdee4c80ba0ec11fbd599a4d",
       "version_major": 2,
       "version_minor": 0
      },
      "text/plain": [
       "  0%|          | 0/100 [00:00<?, ?it/s]"
      ]
     },
     "metadata": {},
     "output_type": "display_data"
    },
    {
     "name": "stderr",
     "output_type": "stream",
     "text": [
      "2021-12-26 14:50:47,378 - my app - INFO - Processed 8397 posts\n"
     ]
    },
    {
     "data": {
      "application/vnd.jupyter.widget-view+json": {
       "model_id": "8c3e2d8e80394dafa9eefa4c8fda8deb",
       "version_major": 2,
       "version_minor": 0
      },
      "text/plain": [
       "  0%|          | 0/100 [00:00<?, ?it/s]"
      ]
     },
     "metadata": {},
     "output_type": "display_data"
    },
    {
     "name": "stderr",
     "output_type": "stream",
     "text": [
      "2021-12-26 14:50:49,024 - my app - INFO - Processed 8497 posts\n"
     ]
    },
    {
     "data": {
      "application/vnd.jupyter.widget-view+json": {
       "model_id": "491f8bf485d54dc2b2b7b25b33064336",
       "version_major": 2,
       "version_minor": 0
      },
      "text/plain": [
       "  0%|          | 0/100 [00:00<?, ?it/s]"
      ]
     },
     "metadata": {},
     "output_type": "display_data"
    },
    {
     "name": "stderr",
     "output_type": "stream",
     "text": [
      "2021-12-26 14:50:52,710 - my app - INFO - Processed 8597 posts\n"
     ]
    },
    {
     "data": {
      "application/vnd.jupyter.widget-view+json": {
       "model_id": "dd0e3621a2f249b88e9e8287d2cee2dd",
       "version_major": 2,
       "version_minor": 0
      },
      "text/plain": [
       "  0%|          | 0/100 [00:00<?, ?it/s]"
      ]
     },
     "metadata": {},
     "output_type": "display_data"
    },
    {
     "name": "stderr",
     "output_type": "stream",
     "text": [
      "2021-12-26 14:50:54,010 - my app - INFO - Processed 8697 posts\n"
     ]
    },
    {
     "data": {
      "application/vnd.jupyter.widget-view+json": {
       "model_id": "1c4acff037cb4c2f83f7fd14493d2059",
       "version_major": 2,
       "version_minor": 0
      },
      "text/plain": [
       "  0%|          | 0/100 [00:00<?, ?it/s]"
      ]
     },
     "metadata": {},
     "output_type": "display_data"
    },
    {
     "name": "stderr",
     "output_type": "stream",
     "text": [
      "2021-12-26 14:50:55,678 - my app - INFO - Processed 8797 posts\n"
     ]
    },
    {
     "data": {
      "application/vnd.jupyter.widget-view+json": {
       "model_id": "3c292419ef5c49c9af256a50bd7c6c22",
       "version_major": 2,
       "version_minor": 0
      },
      "text/plain": [
       "  0%|          | 0/99 [00:00<?, ?it/s]"
      ]
     },
     "metadata": {},
     "output_type": "display_data"
    },
    {
     "name": "stderr",
     "output_type": "stream",
     "text": [
      "2021-12-26 14:50:57,074 - my app - INFO - Processed 8896 posts\n"
     ]
    },
    {
     "data": {
      "application/vnd.jupyter.widget-view+json": {
       "model_id": "ccba3ffcc2a94c039e8f0058e0659da7",
       "version_major": 2,
       "version_minor": 0
      },
      "text/plain": [
       "  0%|          | 0/100 [00:00<?, ?it/s]"
      ]
     },
     "metadata": {},
     "output_type": "display_data"
    },
    {
     "name": "stderr",
     "output_type": "stream",
     "text": [
      "2021-12-26 14:50:58,746 - my app - INFO - Processed 8996 posts\n"
     ]
    },
    {
     "data": {
      "application/vnd.jupyter.widget-view+json": {
       "model_id": "d8ff25c3041a45d8be06df19a814bb27",
       "version_major": 2,
       "version_minor": 0
      },
      "text/plain": [
       "  0%|          | 0/100 [00:00<?, ?it/s]"
      ]
     },
     "metadata": {},
     "output_type": "display_data"
    },
    {
     "name": "stderr",
     "output_type": "stream",
     "text": [
      "2021-12-26 14:51:00,349 - my app - INFO - Processed 9096 posts\n"
     ]
    },
    {
     "data": {
      "application/vnd.jupyter.widget-view+json": {
       "model_id": "e9e4e26834b44140a59383b039c14a30",
       "version_major": 2,
       "version_minor": 0
      },
      "text/plain": [
       "  0%|          | 0/10 [00:00<?, ?it/s]"
      ]
     },
     "metadata": {},
     "output_type": "display_data"
    },
    {
     "name": "stderr",
     "output_type": "stream",
     "text": [
      "2021-12-26 14:51:02,011 - my app - INFO - Processed 9106 posts\n",
      "2021-12-26 14:51:03,222 - my app - WARNING - Empty json request\n",
      "2021-12-26 14:51:03,224 - my app - INFO - Saved 9106 posts\n"
     ]
    }
   ],
   "source": [
    "all_posts = get_all_subreddit_posts(pushshift_args)"
   ]
  },
  {
   "cell_type": "markdown",
   "id": "305a5335",
   "metadata": {},
   "source": [
    "### Create dataframe from results"
   ]
  },
  {
   "cell_type": "code",
   "execution_count": 10,
   "id": "41c03ca8",
   "metadata": {},
   "outputs": [],
   "source": [
    "df = pd.DataFrame(all_posts)"
   ]
  },
  {
   "cell_type": "markdown",
   "id": "c858198e",
   "metadata": {},
   "source": [
    "### Drop Duplicates"
   ]
  },
  {
   "cell_type": "code",
   "execution_count": 11,
   "id": "98ed8c94",
   "metadata": {},
   "outputs": [],
   "source": [
    "df_deduped = df.drop_duplicates(['author', 'title', 'created_utc'])"
   ]
  },
  {
   "cell_type": "markdown",
   "id": "90d16fc1",
   "metadata": {},
   "source": [
    "### Save Dataframe to CSV"
   ]
  },
  {
   "cell_type": "code",
   "execution_count": 12,
   "id": "7be22ef6",
   "metadata": {},
   "outputs": [],
   "source": [
    "df_deduped.to_csv(\"reddit_de_posts_filtered.csv\", index = False)"
   ]
  },
  {
   "cell_type": "markdown",
   "id": "ada444db",
   "metadata": {},
   "source": [
    "## Save results to Postgres Database"
   ]
  },
  {
   "cell_type": "markdown",
   "id": "744f8e00",
   "metadata": {},
   "source": [
    "### Connect to Postgres Database"
   ]
  },
  {
   "cell_type": "code",
   "execution_count": 13,
   "id": "5a9bc0f4",
   "metadata": {},
   "outputs": [
    {
     "data": {
      "text/plain": [
       "True"
      ]
     },
     "execution_count": 13,
     "metadata": {},
     "output_type": "execute_result"
    }
   ],
   "source": [
    "import psycopg2\n",
    "import os\n",
    "from dotenv import load_dotenv\n",
    "\n",
    "load_dotenv(\"./postgres/.env\")"
   ]
  },
  {
   "cell_type": "code",
   "execution_count": 14,
   "id": "ea26ba0c",
   "metadata": {},
   "outputs": [],
   "source": [
    "PG_USER = os.getenv('POSTGRES_USER')\n",
    "PG_PW = os.getenv('POSTGRES_PASSWORD')\n",
    "PG_DB = os.getenv('POSTGRES_DB')"
   ]
  },
  {
   "cell_type": "code",
   "execution_count": 15,
   "id": "913e02f4",
   "metadata": {},
   "outputs": [],
   "source": [
    "postgres_conn_args = {\n",
    "    \"host\": \"localhost\",\n",
    "    \"database\": PG_DB,\n",
    "    \"user\": PG_USER,\n",
    "    \"password\": PG_PW,\n",
    "    \"port\": 5432\n",
    "}"
   ]
  },
  {
   "cell_type": "code",
   "execution_count": 16,
   "id": "c2e7aacd",
   "metadata": {},
   "outputs": [],
   "source": [
    "pg_conn = psycopg2.connect(**postgres_conn_args)"
   ]
  },
  {
   "cell_type": "markdown",
   "id": "483727c3",
   "metadata": {},
   "source": [
    "### Create table"
   ]
  },
  {
   "cell_type": "code",
   "execution_count": 17,
   "id": "6ccde130",
   "metadata": {},
   "outputs": [],
   "source": [
    "CREATE_TABLE_SQL = \"\"\"\n",
    "CREATE TABLE IF NOT EXISTS raw_data.reddit_de (\n",
    "    id char(6) NOT NULL,\n",
    "    author text NOT NULL,\n",
    "    author_flair_css_class text,\n",
    "    author_flair_text text,\n",
    "    author_premium text,\n",
    "    created_utc bigint NOT NULL,\n",
    "    domain text,\n",
    "    full_link text NOT NULL,\n",
    "    is_robot_indexable bool,\n",
    "    is_self bool,\n",
    "    is_video bool,\n",
    "    link_flair_text text,\n",
    "    no_follow text,\n",
    "    num_comments int,\n",
    "    permalink text NOT NULL,\n",
    "    post_hint text,\n",
    "    score int,\n",
    "    selftext text,\n",
    "    title text NOT NULL,\n",
    "    url text NOT NULL,\n",
    "    url_overridden_by_dest text,\n",
    "    removed_by_category text,\n",
    "    banned_by text,\n",
    "    removed_by text\n",
    ");\n",
    "\"\"\""
   ]
  },
  {
   "cell_type": "code",
   "execution_count": 18,
   "id": "5863bdf8",
   "metadata": {},
   "outputs": [],
   "source": [
    "with pg_conn:\n",
    "    with pg_conn.cursor() as pg_cur:\n",
    "            pg_cur.execute(CREATE_TABLE_SQL)"
   ]
  },
  {
   "cell_type": "markdown",
   "id": "4b1cf634",
   "metadata": {},
   "source": [
    "### Copy Contents to table"
   ]
  },
  {
   "cell_type": "code",
   "execution_count": 19,
   "id": "058ffda7",
   "metadata": {},
   "outputs": [],
   "source": [
    "COPY_SQL = \"\"\"\n",
    "COPY raw_data.reddit_de {columns}\n",
    "FROM STDIN\n",
    "WITH CSV HEADER\n",
    "DELIMITER as ','\n",
    "\"\"\""
   ]
  },
  {
   "cell_type": "code",
   "execution_count": 20,
   "id": "8bea9d80",
   "metadata": {},
   "outputs": [],
   "source": [
    "column_names = f\"({', '.join(list(df_deduped.columns))})\""
   ]
  },
  {
   "cell_type": "code",
   "execution_count": 21,
   "id": "6b9d9b47",
   "metadata": {},
   "outputs": [],
   "source": [
    "with pg_conn:\n",
    "    with pg_conn.cursor() as pg_cur:\n",
    "        with open(\"reddit_de_posts_filtered.csv\",  'rb') as tmp_file:\n",
    "            pg_cur.copy_expert(COPY_SQL.format(columns=column_names), tmp_file)"
   ]
  },
  {
   "cell_type": "markdown",
   "id": "f1be7221",
   "metadata": {},
   "source": [
    "### Clean Up"
   ]
  },
  {
   "cell_type": "code",
   "execution_count": 22,
   "id": "7e8a8d7d",
   "metadata": {},
   "outputs": [],
   "source": [
    "with pg_conn:\n",
    "    with pg_conn.cursor() as pg_cur:\n",
    "        pg_cur.execute(\"ANALYZE\")"
   ]
  },
  {
   "cell_type": "code",
   "execution_count": 23,
   "id": "5bda1e98",
   "metadata": {},
   "outputs": [],
   "source": [
    "pg_conn.close()"
   ]
  },
  {
   "cell_type": "code",
   "execution_count": 24,
   "id": "f0397124",
   "metadata": {},
   "outputs": [],
   "source": [
    "!rm -f 'reddit_de_posts_filtered.csv'"
   ]
  },
  {
   "cell_type": "code",
   "execution_count": 25,
   "id": "94337340",
   "metadata": {},
   "outputs": [
    {
     "ename": "InterfaceError",
     "evalue": "connection already closed",
     "output_type": "error",
     "traceback": [
      "\u001b[0;31m---------------------------------------------------------------------------\u001b[0m",
      "\u001b[0;31mInterfaceError\u001b[0m                            Traceback (most recent call last)",
      "\u001b[0;32m/var/folders/m8/4wf1gc_13fgfhnzfz74zs2v00000gq/T/ipykernel_22515/2208513928.py\u001b[0m in \u001b[0;36m<module>\u001b[0;34m\u001b[0m\n\u001b[0;32m----> 1\u001b[0;31m \u001b[0;32mwith\u001b[0m \u001b[0mpg_conn\u001b[0m\u001b[0;34m:\u001b[0m\u001b[0;34m\u001b[0m\u001b[0;34m\u001b[0m\u001b[0m\n\u001b[0m\u001b[1;32m      2\u001b[0m     \u001b[0mdf\u001b[0m \u001b[0;34m=\u001b[0m \u001b[0mpd\u001b[0m\u001b[0;34m.\u001b[0m\u001b[0mread_sql\u001b[0m\u001b[0;34m(\u001b[0m\u001b[0;34m\"SELECT * FROM raw_data.reddit_de\"\u001b[0m\u001b[0;34m,\u001b[0m \u001b[0mpg_conn\u001b[0m\u001b[0;34m)\u001b[0m\u001b[0;34m\u001b[0m\u001b[0;34m\u001b[0m\u001b[0m\n",
      "\u001b[0;31mInterfaceError\u001b[0m: connection already closed"
     ]
    }
   ],
   "source": [
    "with pg_conn:\n",
    "    df = pd.read_sql(\"SELECT * FROM raw_data.reddit_de\", pg_conn)"
   ]
  },
  {
   "cell_type": "code",
   "execution_count": null,
   "id": "b6ae58a8",
   "metadata": {},
   "outputs": [],
   "source": [
    "df.shape"
   ]
  },
  {
   "cell_type": "code",
   "execution_count": null,
   "id": "124e93cf",
   "metadata": {},
   "outputs": [],
   "source": [
    "df.id.nunique()"
   ]
  },
  {
   "cell_type": "code",
   "execution_count": null,
   "id": "339f0e15",
   "metadata": {},
   "outputs": [],
   "source": [
    "df.post_hint.value_counts()"
   ]
  },
  {
   "cell_type": "code",
   "execution_count": null,
   "id": "2848fca7",
   "metadata": {},
   "outputs": [],
   "source": [
    "df.columns"
   ]
  },
  {
   "cell_type": "code",
   "execution_count": null,
   "id": "103d036b",
   "metadata": {},
   "outputs": [],
   "source": [
    "test = df[~df.url_overridden_by_dest.isnull()]"
   ]
  },
  {
   "cell_type": "code",
   "execution_count": null,
   "id": "d101b04f",
   "metadata": {},
   "outputs": [],
   "source": [
    "test.full_link.equals(test.url_overridden_by_dest)"
   ]
  },
  {
   "cell_type": "code",
   "execution_count": null,
   "id": "e307bae0",
   "metadata": {
    "scrolled": true
   },
   "outputs": [],
   "source": [
    "df.full_link.str[22:].equals(df.permalink)"
   ]
  },
  {
   "cell_type": "code",
   "execution_count": null,
   "id": "55f89e63",
   "metadata": {},
   "outputs": [],
   "source": [
    "df.permalink.iloc[0]"
   ]
  },
  {
   "cell_type": "code",
   "execution_count": null,
   "id": "b91eb42a",
   "metadata": {},
   "outputs": [],
   "source": [
    "df.iloc[0].full_link"
   ]
  },
  {
   "cell_type": "code",
   "execution_count": null,
   "id": "2307ac37",
   "metadata": {},
   "outputs": [],
   "source": [
    "df.iloc[0].permalink"
   ]
  },
  {
   "cell_type": "code",
   "execution_count": null,
   "id": "ca2f7bf5",
   "metadata": {},
   "outputs": [],
   "source": [
    "df.no_follow.value_counts()"
   ]
  },
  {
   "cell_type": "code",
   "execution_count": null,
   "id": "17575c90",
   "metadata": {},
   "outputs": [],
   "source": [
    "import numpy as np"
   ]
  },
  {
   "cell_type": "code",
   "execution_count": null,
   "id": "c1a0edf1",
   "metadata": {},
   "outputs": [],
   "source": [
    "np.where(df[df.is_self].selftext.str.len() == 1)"
   ]
  },
  {
   "cell_type": "code",
   "execution_count": null,
   "id": "017d9495",
   "metadata": {},
   "outputs": [],
   "source": [
    "df[df.is_self].selftext.iloc[231]"
   ]
  },
  {
   "cell_type": "code",
   "execution_count": null,
   "id": "25cc5d13",
   "metadata": {},
   "outputs": [],
   "source": [
    "df[df.title.str.len() < 5].title"
   ]
  },
  {
   "cell_type": "code",
   "execution_count": null,
   "id": "a4cbc140",
   "metadata": {},
   "outputs": [],
   "source": [
    "df.iloc[2397]"
   ]
  },
  {
   "cell_type": "code",
   "execution_count": null,
   "id": "e37a513a",
   "metadata": {},
   "outputs": [],
   "source": [
    "df.is_robot_indexable.value_counts()"
   ]
  },
  {
   "cell_type": "code",
   "execution_count": null,
   "id": "4d490cb8",
   "metadata": {},
   "outputs": [],
   "source": [
    "pd.DataFrame(df.author.value_counts())"
   ]
  },
  {
   "cell_type": "code",
   "execution_count": null,
   "id": "6ba33f49",
   "metadata": {},
   "outputs": [],
   "source": [
    "df[df.author == \"[deleted]\"]"
   ]
  },
  {
   "cell_type": "code",
   "execution_count": null,
   "id": "aa256fad",
   "metadata": {},
   "outputs": [],
   "source": []
  }
 ],
 "metadata": {
  "kernelspec": {
   "display_name": "Python 3 (ipykernel)",
   "language": "python",
   "name": "python3"
  },
  "language_info": {
   "codemirror_mode": {
    "name": "ipython",
    "version": 3
   },
   "file_extension": ".py",
   "mimetype": "text/x-python",
   "name": "python",
   "nbconvert_exporter": "python",
   "pygments_lexer": "ipython3",
   "version": "3.8.9"
  }
 },
 "nbformat": 4,
 "nbformat_minor": 5
}
