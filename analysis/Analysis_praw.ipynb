{
 "cells": [
  {
   "cell_type": "markdown",
   "id": "f0e0a953",
   "metadata": {},
   "source": [
    "# Analyse r/dataengineering"
   ]
  },
  {
   "cell_type": "code",
   "execution_count": null,
   "id": "a4dd2c27",
   "metadata": {},
   "outputs": [],
   "source": [
    "from datetime import datetime\n",
    "import pandas as pd\n",
    "import praw\n",
    "import pytz\n",
    "from tqdm.notebook import tqdm"
   ]
  },
  {
   "cell_type": "markdown",
   "id": "01bd977b",
   "metadata": {},
   "source": [
    "## Get Reddit API"
   ]
  },
  {
   "cell_type": "code",
   "execution_count": null,
   "id": "9a160482",
   "metadata": {},
   "outputs": [],
   "source": [
    "reddit = praw.Reddit(\n",
    "    client_id=\"4yY0E0DtKqCupSK1SFgvUw\",\n",
    "    client_secret=\"A1pgvqhJYuEl6XhHHX0xqnvrmNm41g\",\n",
    "    user_agent=\"Post_Extractor\",\n",
    ")"
   ]
  },
  {
   "cell_type": "markdown",
   "id": "11740562",
   "metadata": {},
   "source": [
    "## Select subreddit - Data Engineering"
   ]
  },
  {
   "cell_type": "code",
   "execution_count": null,
   "id": "378b30ed",
   "metadata": {},
   "outputs": [],
   "source": [
    "reddit_de = reddit.subreddit(\"dataengineering\")"
   ]
  },
  {
   "cell_type": "markdown",
   "id": "059358cd",
   "metadata": {},
   "source": [
    "## Function to get posts"
   ]
  },
  {
   "cell_type": "code",
   "execution_count": null,
   "id": "9fe81d17",
   "metadata": {},
   "outputs": [],
   "source": [
    "def get_posts(reddit_posts_gen: praw.models.listing.generator.ListingGenerator, time_filter:str = None, post_type = \"top\") -> list:\n",
    "    posts = []\n",
    "    total_posts = reddit_posts_gen.limit\n",
    "    for post in tqdm(reddit_posts_gen, total = total_posts):\n",
    "        author_name = post.author.name if post.author else None\n",
    "        post_args = {\n",
    "            \"author\": author_name,\n",
    "            \"title\": post.title,\n",
    "            \"description\": post.selftext,\n",
    "            \"up votes\": post.ups,\n",
    "            \"down_votes\": post.downs,\n",
    "            \"post_timestamp_utc\": post.created_utc,\n",
    "            \"num_comments\": post.num_comments,\n",
    "            \"post_link\": post.permalink,\n",
    "            \"post_url\": post.url,\n",
    "        }\n",
    "        if post_type == \"top\":\n",
    "            post_args[\"top_time_filter\"] = time_filter\n",
    "        posts.append(post_args)\n",
    "    return posts"
   ]
  },
  {
   "cell_type": "markdown",
   "id": "491e04ec",
   "metadata": {},
   "source": [
    "## Load all posts into dataframe"
   ]
  },
  {
   "cell_type": "markdown",
   "id": "8adcdb97",
   "metadata": {},
   "source": [
    "### Get top posts"
   ]
  },
  {
   "cell_type": "code",
   "execution_count": null,
   "id": "30b7d1fc",
   "metadata": {},
   "outputs": [],
   "source": [
    "time_filters = ['hour', 'day', 'week', 'month', 'year', 'all']\n",
    "all_top_posts = []\n",
    "for time_filter in time_filters:\n",
    "    top_posts = get_posts(\n",
    "        reddit_posts_gen = reddit_de.top(time_filter=time_filter),\n",
    "        time_filter = time_filter\n",
    "    )\n",
    "    all_top_posts.extend(top_posts)\n",
    "df_top_posts = pd.DataFrame(all_top_posts).drop_duplicates(subset=[\"title\", \"post_timestamp_utc\"])"
   ]
  },
  {
   "cell_type": "code",
   "execution_count": 7,
   "id": "a8c6491c",
   "metadata": {},
   "outputs": [
    {
     "data": {
      "text/html": [
       "<div>\n",
       "<style scoped>\n",
       "    .dataframe tbody tr th:only-of-type {\n",
       "        vertical-align: middle;\n",
       "    }\n",
       "\n",
       "    .dataframe tbody tr th {\n",
       "        vertical-align: top;\n",
       "    }\n",
       "\n",
       "    .dataframe thead th {\n",
       "        text-align: right;\n",
       "    }\n",
       "</style>\n",
       "<table border=\"1\" class=\"dataframe\">\n",
       "  <thead>\n",
       "    <tr style=\"text-align: right;\">\n",
       "      <th></th>\n",
       "      <th>author</th>\n",
       "      <th>title</th>\n",
       "      <th>description</th>\n",
       "      <th>up votes</th>\n",
       "      <th>down_votes</th>\n",
       "      <th>post_timestamp_utc</th>\n",
       "      <th>num_comments</th>\n",
       "      <th>post_link</th>\n",
       "      <th>post_url</th>\n",
       "      <th>is_self</th>\n",
       "      <th>top_time_filter</th>\n",
       "    </tr>\n",
       "  </thead>\n",
       "  <tbody>\n",
       "    <tr>\n",
       "      <th>0</th>\n",
       "      <td>dfragnito</td>\n",
       "      <td>A Schemaless Data Store within YOUR SQL Database</td>\n",
       "      <td></td>\n",
       "      <td>0</td>\n",
       "      <td>0</td>\n",
       "      <td>1.640033e+09</td>\n",
       "      <td>0</td>\n",
       "      <td>/r/dataengineering/comments/rkwqin/a_schemales...</td>\n",
       "      <td>https://schemafreesql.com/</td>\n",
       "      <td>False</td>\n",
       "      <td>hour</td>\n",
       "    </tr>\n",
       "    <tr>\n",
       "      <th>1</th>\n",
       "      <td>zer0crash</td>\n",
       "      <td>What did you guys wish you knew before impleme...</td>\n",
       "      <td>So I'm in charge of the dev/dataengineering/de...</td>\n",
       "      <td>64</td>\n",
       "      <td>0</td>\n",
       "      <td>1.639985e+09</td>\n",
       "      <td>29</td>\n",
       "      <td>/r/dataengineering/comments/rkhevl/what_did_yo...</td>\n",
       "      <td>https://www.reddit.com/r/dataengineering/comme...</td>\n",
       "      <td>True</td>\n",
       "      <td>day</td>\n",
       "    </tr>\n",
       "    <tr>\n",
       "      <th>2</th>\n",
       "      <td>roohitavaf</td>\n",
       "      <td>Seven Reading Suggestions for the Holidays (on...</td>\n",
       "      <td></td>\n",
       "      <td>41</td>\n",
       "      <td>0</td>\n",
       "      <td>1.639959e+09</td>\n",
       "      <td>10</td>\n",
       "      <td>/r/dataengineering/comments/rk9qdk/seven_readi...</td>\n",
       "      <td>https://www.mydistributed.systems/2021/12/holi...</td>\n",
       "      <td>False</td>\n",
       "      <td>day</td>\n",
       "    </tr>\n",
       "    <tr>\n",
       "      <th>3</th>\n",
       "      <td>twopairisgood</td>\n",
       "      <td>The Guide to Data Versioning</td>\n",
       "      <td></td>\n",
       "      <td>19</td>\n",
       "      <td>0</td>\n",
       "      <td>1.639955e+09</td>\n",
       "      <td>0</td>\n",
       "      <td>/r/dataengineering/comments/rk84l6/the_guide_t...</td>\n",
       "      <td>https://medium.com/whispering-data/the-guide-t...</td>\n",
       "      <td>False</td>\n",
       "      <td>day</td>\n",
       "    </tr>\n",
       "    <tr>\n",
       "      <th>4</th>\n",
       "      <td>BadGuyBadGuy</td>\n",
       "      <td>Have you ever had a predecessor who impressed ...</td>\n",
       "      <td>I'm asking because it seems common to hear the...</td>\n",
       "      <td>16</td>\n",
       "      <td>0</td>\n",
       "      <td>1.640024e+09</td>\n",
       "      <td>10</td>\n",
       "      <td>/r/dataengineering/comments/rktdy4/have_you_ev...</td>\n",
       "      <td>https://www.reddit.com/r/dataengineering/comme...</td>\n",
       "      <td>True</td>\n",
       "      <td>day</td>\n",
       "    </tr>\n",
       "    <tr>\n",
       "      <th>...</th>\n",
       "      <td>...</td>\n",
       "      <td>...</td>\n",
       "      <td>...</td>\n",
       "      <td>...</td>\n",
       "      <td>...</td>\n",
       "      <td>...</td>\n",
       "      <td>...</td>\n",
       "      <td>...</td>\n",
       "      <td>...</td>\n",
       "      <td>...</td>\n",
       "      <td>...</td>\n",
       "    </tr>\n",
       "    <tr>\n",
       "      <th>407</th>\n",
       "      <td>sanchit089</td>\n",
       "      <td>Want to learn Data Engineering? Here are some ...</td>\n",
       "      <td></td>\n",
       "      <td>101</td>\n",
       "      <td>0</td>\n",
       "      <td>1.582680e+09</td>\n",
       "      <td>5</td>\n",
       "      <td>/r/dataengineering/comments/f9l209/want_to_lea...</td>\n",
       "      <td>https://github.com/san089/Udacity-Data-Enginee...</td>\n",
       "      <td>False</td>\n",
       "      <td>all</td>\n",
       "    </tr>\n",
       "    <tr>\n",
       "      <th>408</th>\n",
       "      <td>rckahuna</td>\n",
       "      <td>CMV: Data Engineers should code, not build ad-...</td>\n",
       "      <td>Or call it Data Analyst.</td>\n",
       "      <td>101</td>\n",
       "      <td>0</td>\n",
       "      <td>1.635980e+09</td>\n",
       "      <td>57</td>\n",
       "      <td>/r/dataengineering/comments/qm6jpa/cmv_data_en...</td>\n",
       "      <td>https://www.reddit.com/r/dataengineering/comme...</td>\n",
       "      <td>True</td>\n",
       "      <td>all</td>\n",
       "    </tr>\n",
       "    <tr>\n",
       "      <th>409</th>\n",
       "      <td>Lostwhispers05</td>\n",
       "      <td>Is it me or are beginner-friendly ETL pipeline...</td>\n",
       "      <td>So this is something I've been struggling with...</td>\n",
       "      <td>101</td>\n",
       "      <td>0</td>\n",
       "      <td>1.627009e+09</td>\n",
       "      <td>19</td>\n",
       "      <td>/r/dataengineering/comments/opt99w/is_it_me_or...</td>\n",
       "      <td>https://www.reddit.com/r/dataengineering/comme...</td>\n",
       "      <td>True</td>\n",
       "      <td>all</td>\n",
       "    </tr>\n",
       "    <tr>\n",
       "      <th>410</th>\n",
       "      <td>porcelainsmile</td>\n",
       "      <td>Open source contributions for a Data Engineer?</td>\n",
       "      <td>What are some good git projects that a Data En...</td>\n",
       "      <td>101</td>\n",
       "      <td>0</td>\n",
       "      <td>1.618580e+09</td>\n",
       "      <td>57</td>\n",
       "      <td>/r/dataengineering/comments/ms33t0/open_source...</td>\n",
       "      <td>https://www.reddit.com/r/dataengineering/comme...</td>\n",
       "      <td>True</td>\n",
       "      <td>all</td>\n",
       "    </tr>\n",
       "    <tr>\n",
       "      <th>411</th>\n",
       "      <td>None</td>\n",
       "      <td>Data Engineering from the Ground Up - Part 2: ...</td>\n",
       "      <td></td>\n",
       "      <td>100</td>\n",
       "      <td>0</td>\n",
       "      <td>1.600692e+09</td>\n",
       "      <td>26</td>\n",
       "      <td>/r/dataengineering/comments/iwzjm8/data_engine...</td>\n",
       "      <td>https://peterdannemann.com/better-pipelines-wi...</td>\n",
       "      <td>False</td>\n",
       "      <td>all</td>\n",
       "    </tr>\n",
       "  </tbody>\n",
       "</table>\n",
       "<p>360 rows × 11 columns</p>\n",
       "</div>"
      ],
      "text/plain": [
       "             author                                              title  \\\n",
       "0         dfragnito   A Schemaless Data Store within YOUR SQL Database   \n",
       "1         zer0crash  What did you guys wish you knew before impleme...   \n",
       "2        roohitavaf  Seven Reading Suggestions for the Holidays (on...   \n",
       "3     twopairisgood                       The Guide to Data Versioning   \n",
       "4      BadGuyBadGuy  Have you ever had a predecessor who impressed ...   \n",
       "..              ...                                                ...   \n",
       "407      sanchit089  Want to learn Data Engineering? Here are some ...   \n",
       "408        rckahuna  CMV: Data Engineers should code, not build ad-...   \n",
       "409  Lostwhispers05  Is it me or are beginner-friendly ETL pipeline...   \n",
       "410  porcelainsmile     Open source contributions for a Data Engineer?   \n",
       "411            None  Data Engineering from the Ground Up - Part 2: ...   \n",
       "\n",
       "                                           description  up votes  down_votes  \\\n",
       "0                                                              0           0   \n",
       "1    So I'm in charge of the dev/dataengineering/de...        64           0   \n",
       "2                                                             41           0   \n",
       "3                                                             19           0   \n",
       "4    I'm asking because it seems common to hear the...        16           0   \n",
       "..                                                 ...       ...         ...   \n",
       "407                                                          101           0   \n",
       "408                           Or call it Data Analyst.       101           0   \n",
       "409  So this is something I've been struggling with...       101           0   \n",
       "410  What are some good git projects that a Data En...       101           0   \n",
       "411                                                          100           0   \n",
       "\n",
       "     post_timestamp_utc  num_comments  \\\n",
       "0          1.640033e+09             0   \n",
       "1          1.639985e+09            29   \n",
       "2          1.639959e+09            10   \n",
       "3          1.639955e+09             0   \n",
       "4          1.640024e+09            10   \n",
       "..                  ...           ...   \n",
       "407        1.582680e+09             5   \n",
       "408        1.635980e+09            57   \n",
       "409        1.627009e+09            19   \n",
       "410        1.618580e+09            57   \n",
       "411        1.600692e+09            26   \n",
       "\n",
       "                                             post_link  \\\n",
       "0    /r/dataengineering/comments/rkwqin/a_schemales...   \n",
       "1    /r/dataengineering/comments/rkhevl/what_did_yo...   \n",
       "2    /r/dataengineering/comments/rk9qdk/seven_readi...   \n",
       "3    /r/dataengineering/comments/rk84l6/the_guide_t...   \n",
       "4    /r/dataengineering/comments/rktdy4/have_you_ev...   \n",
       "..                                                 ...   \n",
       "407  /r/dataengineering/comments/f9l209/want_to_lea...   \n",
       "408  /r/dataengineering/comments/qm6jpa/cmv_data_en...   \n",
       "409  /r/dataengineering/comments/opt99w/is_it_me_or...   \n",
       "410  /r/dataengineering/comments/ms33t0/open_source...   \n",
       "411  /r/dataengineering/comments/iwzjm8/data_engine...   \n",
       "\n",
       "                                              post_url  is_self  \\\n",
       "0                           https://schemafreesql.com/    False   \n",
       "1    https://www.reddit.com/r/dataengineering/comme...     True   \n",
       "2    https://www.mydistributed.systems/2021/12/holi...    False   \n",
       "3    https://medium.com/whispering-data/the-guide-t...    False   \n",
       "4    https://www.reddit.com/r/dataengineering/comme...     True   \n",
       "..                                                 ...      ...   \n",
       "407  https://github.com/san089/Udacity-Data-Enginee...    False   \n",
       "408  https://www.reddit.com/r/dataengineering/comme...     True   \n",
       "409  https://www.reddit.com/r/dataengineering/comme...     True   \n",
       "410  https://www.reddit.com/r/dataengineering/comme...     True   \n",
       "411  https://peterdannemann.com/better-pipelines-wi...    False   \n",
       "\n",
       "    top_time_filter  \n",
       "0              hour  \n",
       "1               day  \n",
       "2               day  \n",
       "3               day  \n",
       "4               day  \n",
       "..              ...  \n",
       "407             all  \n",
       "408             all  \n",
       "409             all  \n",
       "410             all  \n",
       "411             all  \n",
       "\n",
       "[360 rows x 11 columns]"
      ]
     },
     "execution_count": 7,
     "metadata": {},
     "output_type": "execute_result"
    }
   ],
   "source": [
    "df_top_posts"
   ]
  },
  {
   "cell_type": "code",
   "execution_count": 6,
   "id": "1ccc174e",
   "metadata": {},
   "outputs": [
    {
     "data": {
      "text/plain": [
       "Data_Cog            5\n",
       "joseph_machado      5\n",
       "dataengineerdude    4\n",
       "tmccormick92        4\n",
       "BlancBryn           4\n",
       "                   ..\n",
       "TreapPeep           1\n",
       "Strijdhagen         1\n",
       "PhSon               1\n",
       "kkjeb               1\n",
       "rckahuna            1\n",
       "Name: author, Length: 261, dtype: int64"
      ]
     },
     "execution_count": 6,
     "metadata": {},
     "output_type": "execute_result"
    }
   ],
   "source": [
    "df_top_posts.author.value_counts()"
   ]
  },
  {
   "cell_type": "markdown",
   "id": "fa9fb4f4",
   "metadata": {},
   "source": [
    "### Get hot posts"
   ]
  },
  {
   "cell_type": "code",
   "execution_count": 7,
   "id": "38b8bec1",
   "metadata": {},
   "outputs": [
    {
     "data": {
      "application/vnd.jupyter.widget-view+json": {
       "model_id": "d046883a5e94491e891acc6fad3b47a2",
       "version_major": 2,
       "version_minor": 0
      },
      "text/plain": [
       "  0%|          | 0/100 [00:00<?, ?it/s]"
      ]
     },
     "metadata": {},
     "output_type": "display_data"
    }
   ],
   "source": [
    "hot_posts = get_posts(\n",
    "    reddit_posts_gen = reddit_de.hot(),\n",
    "    post_type = \"hot\"\n",
    ")\n",
    "df_hot_posts = pd.DataFrame(hot_posts).drop_duplicates(subset=[\"title\", \"post_timestamp_utc\"])"
   ]
  },
  {
   "cell_type": "code",
   "execution_count": 8,
   "id": "af344b77",
   "metadata": {},
   "outputs": [
    {
     "data": {
      "text/html": [
       "<div>\n",
       "<style scoped>\n",
       "    .dataframe tbody tr th:only-of-type {\n",
       "        vertical-align: middle;\n",
       "    }\n",
       "\n",
       "    .dataframe tbody tr th {\n",
       "        vertical-align: top;\n",
       "    }\n",
       "\n",
       "    .dataframe thead th {\n",
       "        text-align: right;\n",
       "    }\n",
       "</style>\n",
       "<table border=\"1\" class=\"dataframe\">\n",
       "  <thead>\n",
       "    <tr style=\"text-align: right;\">\n",
       "      <th></th>\n",
       "      <th>author</th>\n",
       "      <th>title</th>\n",
       "      <th>description</th>\n",
       "      <th>up votes</th>\n",
       "      <th>down_votes</th>\n",
       "      <th>post_timestamp_utc</th>\n",
       "      <th>num_comments</th>\n",
       "      <th>post_link</th>\n",
       "      <th>post_url</th>\n",
       "    </tr>\n",
       "  </thead>\n",
       "  <tbody>\n",
       "    <tr>\n",
       "      <th>0</th>\n",
       "      <td>AutoModerator</td>\n",
       "      <td>Quarterly Salary Discussion</td>\n",
       "      <td>This is a recurring thread that happens quarte...</td>\n",
       "      <td>40</td>\n",
       "      <td>0</td>\n",
       "      <td>1.638378e+09</td>\n",
       "      <td>150</td>\n",
       "      <td>/r/dataengineering/comments/r6jfnm/quarterly_s...</td>\n",
       "      <td>https://www.reddit.com/r/dataengineering/comme...</td>\n",
       "    </tr>\n",
       "    <tr>\n",
       "      <th>1</th>\n",
       "      <td>SeaworthinessFit7893</td>\n",
       "      <td>What is Kubernetes used for in data engineering?</td>\n",
       "      <td>Im curious as do why people use kubernetes in ...</td>\n",
       "      <td>31</td>\n",
       "      <td>0</td>\n",
       "      <td>1.639843e+09</td>\n",
       "      <td>14</td>\n",
       "      <td>/r/dataengineering/comments/rja8s6/what_is_kub...</td>\n",
       "      <td>https://www.reddit.com/r/dataengineering/comme...</td>\n",
       "    </tr>\n",
       "    <tr>\n",
       "      <th>2</th>\n",
       "      <td>Suspicious-Use7032</td>\n",
       "      <td>Working as an etl developer using informatica ...</td>\n",
       "      <td>I am working as a data engineer (data integrat...</td>\n",
       "      <td>12</td>\n",
       "      <td>0</td>\n",
       "      <td>1.639840e+09</td>\n",
       "      <td>4</td>\n",
       "      <td>/r/dataengineering/comments/rj9en6/working_as_...</td>\n",
       "      <td>https://www.reddit.com/r/dataengineering/comme...</td>\n",
       "    </tr>\n",
       "    <tr>\n",
       "      <th>3</th>\n",
       "      <td>BlancBryn</td>\n",
       "      <td>Tools or frameworks to simply trigger python f...</td>\n",
       "      <td>Hi engineers,\\nI am looking for a way to trigg...</td>\n",
       "      <td>2</td>\n",
       "      <td>0</td>\n",
       "      <td>1.639854e+09</td>\n",
       "      <td>0</td>\n",
       "      <td>/r/dataengineering/comments/rje71b/tools_or_fr...</td>\n",
       "      <td>https://www.reddit.com/r/dataengineering/comme...</td>\n",
       "    </tr>\n",
       "    <tr>\n",
       "      <th>4</th>\n",
       "      <td>TheLastKingofReddit</td>\n",
       "      <td>Data warehouse - Normalized vs denormalized fa...</td>\n",
       "      <td>I'm designing a data warehouse to hold survey ...</td>\n",
       "      <td>2</td>\n",
       "      <td>0</td>\n",
       "      <td>1.639854e+09</td>\n",
       "      <td>0</td>\n",
       "      <td>/r/dataengineering/comments/rjdwfi/data_wareho...</td>\n",
       "      <td>https://www.reddit.com/r/dataengineering/comme...</td>\n",
       "    </tr>\n",
       "  </tbody>\n",
       "</table>\n",
       "</div>"
      ],
      "text/plain": [
       "                 author                                              title  \\\n",
       "0         AutoModerator                        Quarterly Salary Discussion   \n",
       "1  SeaworthinessFit7893   What is Kubernetes used for in data engineering?   \n",
       "2    Suspicious-Use7032  Working as an etl developer using informatica ...   \n",
       "3             BlancBryn  Tools or frameworks to simply trigger python f...   \n",
       "4   TheLastKingofReddit  Data warehouse - Normalized vs denormalized fa...   \n",
       "\n",
       "                                         description  up votes  down_votes  \\\n",
       "0  This is a recurring thread that happens quarte...        40           0   \n",
       "1  Im curious as do why people use kubernetes in ...        31           0   \n",
       "2  I am working as a data engineer (data integrat...        12           0   \n",
       "3  Hi engineers,\\nI am looking for a way to trigg...         2           0   \n",
       "4  I'm designing a data warehouse to hold survey ...         2           0   \n",
       "\n",
       "   post_timestamp_utc  num_comments  \\\n",
       "0        1.638378e+09           150   \n",
       "1        1.639843e+09            14   \n",
       "2        1.639840e+09             4   \n",
       "3        1.639854e+09             0   \n",
       "4        1.639854e+09             0   \n",
       "\n",
       "                                           post_link  \\\n",
       "0  /r/dataengineering/comments/r6jfnm/quarterly_s...   \n",
       "1  /r/dataengineering/comments/rja8s6/what_is_kub...   \n",
       "2  /r/dataengineering/comments/rj9en6/working_as_...   \n",
       "3  /r/dataengineering/comments/rje71b/tools_or_fr...   \n",
       "4  /r/dataengineering/comments/rjdwfi/data_wareho...   \n",
       "\n",
       "                                            post_url  \n",
       "0  https://www.reddit.com/r/dataengineering/comme...  \n",
       "1  https://www.reddit.com/r/dataengineering/comme...  \n",
       "2  https://www.reddit.com/r/dataengineering/comme...  \n",
       "3  https://www.reddit.com/r/dataengineering/comme...  \n",
       "4  https://www.reddit.com/r/dataengineering/comme...  "
      ]
     },
     "execution_count": 8,
     "metadata": {},
     "output_type": "execute_result"
    }
   ],
   "source": [
    "df_hot_posts.head()"
   ]
  },
  {
   "cell_type": "markdown",
   "id": "c819f8d0",
   "metadata": {},
   "source": [
    "### Get new posts"
   ]
  },
  {
   "cell_type": "code",
   "execution_count": 9,
   "id": "dc71ca8c",
   "metadata": {},
   "outputs": [
    {
     "data": {
      "application/vnd.jupyter.widget-view+json": {
       "model_id": "728f40330ac54600aed5bb6d8b82b11d",
       "version_major": 2,
       "version_minor": 0
      },
      "text/plain": [
       "  0%|          | 0/100 [00:00<?, ?it/s]"
      ]
     },
     "metadata": {},
     "output_type": "display_data"
    }
   ],
   "source": [
    "new_posts = get_posts(\n",
    "    reddit_posts_gen = reddit_de.new(),\n",
    "    post_type = \"hot\"\n",
    ")\n",
    "df_new_posts = pd.DataFrame(new_posts).drop_duplicates(subset=[\"title\", \"post_timestamp_utc\"])"
   ]
  },
  {
   "cell_type": "code",
   "execution_count": 10,
   "id": "1942c27b",
   "metadata": {},
   "outputs": [
    {
     "data": {
      "text/html": [
       "<div>\n",
       "<style scoped>\n",
       "    .dataframe tbody tr th:only-of-type {\n",
       "        vertical-align: middle;\n",
       "    }\n",
       "\n",
       "    .dataframe tbody tr th {\n",
       "        vertical-align: top;\n",
       "    }\n",
       "\n",
       "    .dataframe thead th {\n",
       "        text-align: right;\n",
       "    }\n",
       "</style>\n",
       "<table border=\"1\" class=\"dataframe\">\n",
       "  <thead>\n",
       "    <tr style=\"text-align: right;\">\n",
       "      <th></th>\n",
       "      <th>author</th>\n",
       "      <th>title</th>\n",
       "      <th>description</th>\n",
       "      <th>up votes</th>\n",
       "      <th>down_votes</th>\n",
       "      <th>post_timestamp_utc</th>\n",
       "      <th>num_comments</th>\n",
       "      <th>post_link</th>\n",
       "      <th>post_url</th>\n",
       "    </tr>\n",
       "  </thead>\n",
       "  <tbody>\n",
       "    <tr>\n",
       "      <th>0</th>\n",
       "      <td>BlancBryn</td>\n",
       "      <td>Tools or frameworks to simply trigger python f...</td>\n",
       "      <td>Hi engineers,\\nI am looking for a way to trigg...</td>\n",
       "      <td>2</td>\n",
       "      <td>0</td>\n",
       "      <td>1.639854e+09</td>\n",
       "      <td>0</td>\n",
       "      <td>/r/dataengineering/comments/rje71b/tools_or_fr...</td>\n",
       "      <td>https://www.reddit.com/r/dataengineering/comme...</td>\n",
       "    </tr>\n",
       "    <tr>\n",
       "      <th>1</th>\n",
       "      <td>odahat</td>\n",
       "      <td>Why use Segment instead of just doing it manua...</td>\n",
       "      <td>Hello, I am pretty junior in data engineering ...</td>\n",
       "      <td>1</td>\n",
       "      <td>0</td>\n",
       "      <td>1.639854e+09</td>\n",
       "      <td>2</td>\n",
       "      <td>/r/dataengineering/comments/rjdwww/why_use_seg...</td>\n",
       "      <td>https://www.reddit.com/r/dataengineering/comme...</td>\n",
       "    </tr>\n",
       "    <tr>\n",
       "      <th>2</th>\n",
       "      <td>TheLastKingofReddit</td>\n",
       "      <td>Data warehouse - Normalized vs denormalized fa...</td>\n",
       "      <td>I'm designing a data warehouse to hold survey ...</td>\n",
       "      <td>2</td>\n",
       "      <td>0</td>\n",
       "      <td>1.639854e+09</td>\n",
       "      <td>0</td>\n",
       "      <td>/r/dataengineering/comments/rjdwfi/data_wareho...</td>\n",
       "      <td>https://www.reddit.com/r/dataengineering/comme...</td>\n",
       "    </tr>\n",
       "    <tr>\n",
       "      <th>3</th>\n",
       "      <td>SeaworthinessFit7893</td>\n",
       "      <td>What is Kubernetes used for in data engineering?</td>\n",
       "      <td>Im curious as do why people use kubernetes in ...</td>\n",
       "      <td>30</td>\n",
       "      <td>0</td>\n",
       "      <td>1.639843e+09</td>\n",
       "      <td>14</td>\n",
       "      <td>/r/dataengineering/comments/rja8s6/what_is_kub...</td>\n",
       "      <td>https://www.reddit.com/r/dataengineering/comme...</td>\n",
       "    </tr>\n",
       "    <tr>\n",
       "      <th>4</th>\n",
       "      <td>Minimum-Membership-8</td>\n",
       "      <td>Data architect with snowflake</td>\n",
       "      <td>How essential is a data architect in a snowfla...</td>\n",
       "      <td>0</td>\n",
       "      <td>0</td>\n",
       "      <td>1.639842e+09</td>\n",
       "      <td>2</td>\n",
       "      <td>/r/dataengineering/comments/rj9w9l/data_archit...</td>\n",
       "      <td>https://www.reddit.com/r/dataengineering/comme...</td>\n",
       "    </tr>\n",
       "  </tbody>\n",
       "</table>\n",
       "</div>"
      ],
      "text/plain": [
       "                 author                                              title  \\\n",
       "0             BlancBryn  Tools or frameworks to simply trigger python f...   \n",
       "1                odahat  Why use Segment instead of just doing it manua...   \n",
       "2   TheLastKingofReddit  Data warehouse - Normalized vs denormalized fa...   \n",
       "3  SeaworthinessFit7893   What is Kubernetes used for in data engineering?   \n",
       "4  Minimum-Membership-8                      Data architect with snowflake   \n",
       "\n",
       "                                         description  up votes  down_votes  \\\n",
       "0  Hi engineers,\\nI am looking for a way to trigg...         2           0   \n",
       "1  Hello, I am pretty junior in data engineering ...         1           0   \n",
       "2  I'm designing a data warehouse to hold survey ...         2           0   \n",
       "3  Im curious as do why people use kubernetes in ...        30           0   \n",
       "4  How essential is a data architect in a snowfla...         0           0   \n",
       "\n",
       "   post_timestamp_utc  num_comments  \\\n",
       "0        1.639854e+09             0   \n",
       "1        1.639854e+09             2   \n",
       "2        1.639854e+09             0   \n",
       "3        1.639843e+09            14   \n",
       "4        1.639842e+09             2   \n",
       "\n",
       "                                           post_link  \\\n",
       "0  /r/dataengineering/comments/rje71b/tools_or_fr...   \n",
       "1  /r/dataengineering/comments/rjdwww/why_use_seg...   \n",
       "2  /r/dataengineering/comments/rjdwfi/data_wareho...   \n",
       "3  /r/dataengineering/comments/rja8s6/what_is_kub...   \n",
       "4  /r/dataengineering/comments/rj9w9l/data_archit...   \n",
       "\n",
       "                                            post_url  \n",
       "0  https://www.reddit.com/r/dataengineering/comme...  \n",
       "1  https://www.reddit.com/r/dataengineering/comme...  \n",
       "2  https://www.reddit.com/r/dataengineering/comme...  \n",
       "3  https://www.reddit.com/r/dataengineering/comme...  \n",
       "4  https://www.reddit.com/r/dataengineering/comme...  "
      ]
     },
     "execution_count": 10,
     "metadata": {},
     "output_type": "execute_result"
    }
   ],
   "source": [
    "df_new_posts.head()"
   ]
  },
  {
   "cell_type": "markdown",
   "id": "f216be5f",
   "metadata": {},
   "source": [
    "## Analyse Data"
   ]
  },
  {
   "cell_type": "markdown",
   "id": "e296865d",
   "metadata": {},
   "source": [
    "### Get top posters"
   ]
  },
  {
   "cell_type": "markdown",
   "id": "4f0842ea",
   "metadata": {},
   "source": [
    "#### authors with most top posts"
   ]
  },
  {
   "cell_type": "code",
   "execution_count": 11,
   "id": "d141b101",
   "metadata": {},
   "outputs": [
    {
     "data": {
      "text/html": [
       "<div>\n",
       "<style scoped>\n",
       "    .dataframe tbody tr th:only-of-type {\n",
       "        vertical-align: middle;\n",
       "    }\n",
       "\n",
       "    .dataframe tbody tr th {\n",
       "        vertical-align: top;\n",
       "    }\n",
       "\n",
       "    .dataframe thead th {\n",
       "        text-align: right;\n",
       "    }\n",
       "</style>\n",
       "<table border=\"1\" class=\"dataframe\">\n",
       "  <thead>\n",
       "    <tr style=\"text-align: right;\">\n",
       "      <th></th>\n",
       "      <th>author</th>\n",
       "    </tr>\n",
       "  </thead>\n",
       "  <tbody>\n",
       "    <tr>\n",
       "      <th>Data_Cog</th>\n",
       "      <td>5</td>\n",
       "    </tr>\n",
       "    <tr>\n",
       "      <th>joseph_machado</th>\n",
       "      <td>5</td>\n",
       "    </tr>\n",
       "    <tr>\n",
       "      <th>dataengineerdude</th>\n",
       "      <td>4</td>\n",
       "    </tr>\n",
       "    <tr>\n",
       "      <th>tmccormick92</th>\n",
       "      <td>4</td>\n",
       "    </tr>\n",
       "    <tr>\n",
       "      <th>BlancBryn</th>\n",
       "      <td>4</td>\n",
       "    </tr>\n",
       "  </tbody>\n",
       "</table>\n",
       "</div>"
      ],
      "text/plain": [
       "                  author\n",
       "Data_Cog               5\n",
       "joseph_machado         5\n",
       "dataengineerdude       4\n",
       "tmccormick92           4\n",
       "BlancBryn              4"
      ]
     },
     "execution_count": 11,
     "metadata": {},
     "output_type": "execute_result"
    }
   ],
   "source": [
    "pd.DataFrame(df_top_posts.author.value_counts().head())"
   ]
  },
  {
   "cell_type": "markdown",
   "id": "b3f47d4b",
   "metadata": {},
   "source": [
    "#### authors with most up votes"
   ]
  },
  {
   "cell_type": "code",
   "execution_count": 12,
   "id": "9cb68383",
   "metadata": {
    "scrolled": true
   },
   "outputs": [
    {
     "data": {
      "text/html": [
       "<div>\n",
       "<style scoped>\n",
       "    .dataframe tbody tr th:only-of-type {\n",
       "        vertical-align: middle;\n",
       "    }\n",
       "\n",
       "    .dataframe tbody tr th {\n",
       "        vertical-align: top;\n",
       "    }\n",
       "\n",
       "    .dataframe thead th {\n",
       "        text-align: right;\n",
       "    }\n",
       "</style>\n",
       "<table border=\"1\" class=\"dataframe\">\n",
       "  <thead>\n",
       "    <tr style=\"text-align: right;\">\n",
       "      <th></th>\n",
       "      <th>up votes</th>\n",
       "    </tr>\n",
       "    <tr>\n",
       "      <th>author</th>\n",
       "      <th></th>\n",
       "    </tr>\n",
       "  </thead>\n",
       "  <tbody>\n",
       "    <tr>\n",
       "      <th>joseph_machado</th>\n",
       "      <td>814</td>\n",
       "    </tr>\n",
       "    <tr>\n",
       "      <th>noNSFWcontent</th>\n",
       "      <td>683</td>\n",
       "    </tr>\n",
       "    <tr>\n",
       "      <th>kuwala-io</th>\n",
       "      <td>681</td>\n",
       "    </tr>\n",
       "    <tr>\n",
       "      <th>mitchum_</th>\n",
       "      <td>568</td>\n",
       "    </tr>\n",
       "    <tr>\n",
       "      <th>Legitimate-Cry2837</th>\n",
       "      <td>559</td>\n",
       "    </tr>\n",
       "    <tr>\n",
       "      <th>ohammou</th>\n",
       "      <td>532</td>\n",
       "    </tr>\n",
       "    <tr>\n",
       "      <th>ali_azg</th>\n",
       "      <td>529</td>\n",
       "    </tr>\n",
       "    <tr>\n",
       "      <th>adgezaza87</th>\n",
       "      <td>484</td>\n",
       "    </tr>\n",
       "    <tr>\n",
       "      <th>blef__</th>\n",
       "      <td>481</td>\n",
       "    </tr>\n",
       "    <tr>\n",
       "      <th>AaronSWE</th>\n",
       "      <td>463</td>\n",
       "    </tr>\n",
       "  </tbody>\n",
       "</table>\n",
       "</div>"
      ],
      "text/plain": [
       "                    up votes\n",
       "author                      \n",
       "joseph_machado           814\n",
       "noNSFWcontent            683\n",
       "kuwala-io                681\n",
       "mitchum_                 568\n",
       "Legitimate-Cry2837       559\n",
       "ohammou                  532\n",
       "ali_azg                  529\n",
       "adgezaza87               484\n",
       "blef__                   481\n",
       "AaronSWE                 463"
      ]
     },
     "execution_count": 12,
     "metadata": {},
     "output_type": "execute_result"
    }
   ],
   "source": [
    "df_top_posts.groupby(\"author\").sum(\"up votes\").sort_values(\"up votes\", ascending = False)[[\"up votes\"]].head(10)"
   ]
  },
  {
   "cell_type": "code",
   "execution_count": 13,
   "id": "71a885d7",
   "metadata": {},
   "outputs": [],
   "source": [
    "df_top_posts[\"topic\"] = df_top_posts.title + \" \" + df_top_posts.description"
   ]
  },
  {
   "cell_type": "code",
   "execution_count": 21,
   "id": "8248c6e8",
   "metadata": {},
   "outputs": [],
   "source": [
    "df_hot_posts[\"topic\"] = df_hot_posts.title + \" \" + df_hot_posts.description"
   ]
  },
  {
   "cell_type": "code",
   "execution_count": 22,
   "id": "5a72903d",
   "metadata": {},
   "outputs": [],
   "source": [
    "df_new_posts[\"topic\"] = df_new_posts.title + \" \" + df_new_posts.description"
   ]
  },
  {
   "cell_type": "markdown",
   "id": "3d804675",
   "metadata": {},
   "source": [
    "### Get categories from title and description"
   ]
  },
  {
   "cell_type": "code",
   "execution_count": 14,
   "id": "5df8d8c1",
   "metadata": {},
   "outputs": [],
   "source": [
    "from transformers import pipeline"
   ]
  },
  {
   "cell_type": "code",
   "execution_count": 15,
   "id": "d5d4cafa",
   "metadata": {},
   "outputs": [],
   "source": [
    "hypothesis_template = 'This post in data engineering is discussing {}.'"
   ]
  },
  {
   "cell_type": "code",
   "execution_count": 50,
   "id": "51030e5f",
   "metadata": {},
   "outputs": [],
   "source": [
    "classifier = pipeline(\n",
    "    \"zero-shot-classification\", \n",
    "    model = \"facebook/bart-large-mnli\", \n",
    "    hypothesis_template=hypothesis_template\n",
    ")"
   ]
  },
  {
   "cell_type": "code",
   "execution_count": 51,
   "id": "236fe619",
   "metadata": {
    "scrolled": false
   },
   "outputs": [
    {
     "data": {
      "text/plain": [
       "{'sequence': 'Do you unit test your ETL pipelines? As title suggests. Do you write unit tests to sense check if units of your ETL code (e.g. custom transformation functions) perform just as expected?\\n\\n[View Poll](https://www.reddit.com/poll/rin780)',\n",
       " 'labels': ['data transform',\n",
       "  'ETL jobs',\n",
       "  'learning',\n",
       "  'data orchestration',\n",
       "  'career',\n",
       "  'CI/CD',\n",
       "  'data ingestion',\n",
       "  'data lakehouse',\n",
       "  'scheduling',\n",
       "  'data mesh',\n",
       "  'streaming',\n",
       "  'data warehouse',\n",
       "  'container orchestration',\n",
       "  'data lake'],\n",
       " 'scores': [0.8619182109832764,\n",
       "  0.7931176424026489,\n",
       "  0.5037088394165039,\n",
       "  0.49432599544525146,\n",
       "  0.1772947460412979,\n",
       "  0.08029742538928986,\n",
       "  0.07847443222999573,\n",
       "  0.06400887668132782,\n",
       "  0.05714365839958191,\n",
       "  0.0549035407602787,\n",
       "  0.03209041804075241,\n",
       "  0.019350597634911537,\n",
       "  0.016374895349144936,\n",
       "  0.005799442529678345]}"
      ]
     },
     "execution_count": 51,
     "metadata": {},
     "output_type": "execute_result"
    }
   ],
   "source": [
    "count = 10\n",
    "sequence = df_new_posts.topic.iloc[count][:500]\n",
    "\n",
    "\n",
    "\n",
    "classifier(sequence, candidate_labels, multi_label=True)"
   ]
  },
  {
   "cell_type": "markdown",
   "id": "c09bfacf",
   "metadata": {},
   "source": [
    "### Topics:\n",
    "- dbt (transformation)\n",
    "- kubernetes (container orchestration)\n",
    "- Airflow (scheduling)\n"
   ]
  },
  {
   "cell_type": "code",
   "execution_count": null,
   "id": "84e9bcb4",
   "metadata": {},
   "outputs": [],
   "source": [
    "dbt > 0.9"
   ]
  }
 ],
 "metadata": {
  "kernelspec": {
   "display_name": "Python 3 (ipykernel)",
   "language": "python",
   "name": "python3"
  },
  "language_info": {
   "codemirror_mode": {
    "name": "ipython",
    "version": 3
   },
   "file_extension": ".py",
   "mimetype": "text/x-python",
   "name": "python",
   "nbconvert_exporter": "python",
   "pygments_lexer": "ipython3",
   "version": "3.8.9"
  }
 },
 "nbformat": 4,
 "nbformat_minor": 5
}
